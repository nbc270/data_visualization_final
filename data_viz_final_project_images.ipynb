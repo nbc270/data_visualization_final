{
 "cells": [
  {
   "cell_type": "code",
   "execution_count": 52,
   "metadata": {},
   "outputs": [
    {
     "name": "stdout",
     "output_type": "stream",
     "text": [
      "Populating the interactive namespace from numpy and matplotlib\n"
     ]
    }
   ],
   "source": [
    "import pandas as pd\n",
    "import folium\n",
    "import os\n",
    "import requests\n",
    "import numpy as np\n",
    "import matplotlib as mpl\n",
    "import matplotlib.pyplot as plt\n",
    "from matplotlib import cm\n",
    "from matplotlib.colors import ListedColormap, LinearSegmentedColormap\n",
    "from collections import OrderedDict\n",
    "import matplotlib.colors as mcolors\n",
    "import geopandas as gpd\n",
    "import json\n",
    "import io\n",
    "import time\n",
    "import psutil\n",
    "from folium import plugins\n",
    "import shapely\n",
    "from folium.plugins import HeatMap\n",
    "import plotly.express as px\n",
    "%pylab inline "
   ]
  },
  {
   "cell_type": "markdown",
   "metadata": {},
   "source": [
    "# Read in the datasets"
   ]
  },
  {
   "cell_type": "markdown",
   "metadata": {},
   "source": [
    "## Requests csv"
   ]
  },
  {
   "cell_type": "code",
   "execution_count": 2,
   "metadata": {},
   "outputs": [],
   "source": [
    "requests = pd.read_csv('requests.csv')"
   ]
  },
  {
   "cell_type": "code",
   "execution_count": 3,
   "metadata": {},
   "outputs": [
    {
     "data": {
      "text/html": [
       "<div>\n",
       "<style scoped>\n",
       "    .dataframe tbody tr th:only-of-type {\n",
       "        vertical-align: middle;\n",
       "    }\n",
       "\n",
       "    .dataframe tbody tr th {\n",
       "        vertical-align: top;\n",
       "    }\n",
       "\n",
       "    .dataframe thead th {\n",
       "        text-align: right;\n",
       "    }\n",
       "</style>\n",
       "<table border=\"1\" class=\"dataframe\">\n",
       "  <thead>\n",
       "    <tr style=\"text-align: right;\">\n",
       "      <th></th>\n",
       "      <th>Timestamp</th>\n",
       "      <th>Requested_Pickup</th>\n",
       "      <th>Requested_Dropoff</th>\n",
       "      <th>Actual_Pickup</th>\n",
       "      <th>Actual_Dropoff</th>\n",
       "    </tr>\n",
       "  </thead>\n",
       "  <tbody>\n",
       "    <tr>\n",
       "      <th>0</th>\n",
       "      <td>1380949200</td>\n",
       "      <td>1149</td>\n",
       "      <td>725</td>\n",
       "      <td>218</td>\n",
       "      <td>3601</td>\n",
       "    </tr>\n",
       "    <tr>\n",
       "      <th>1</th>\n",
       "      <td>1380949200</td>\n",
       "      <td>1225</td>\n",
       "      <td>1714</td>\n",
       "      <td>2003</td>\n",
       "      <td>3601</td>\n",
       "    </tr>\n",
       "    <tr>\n",
       "      <th>2</th>\n",
       "      <td>1380949200</td>\n",
       "      <td>1237</td>\n",
       "      <td>3143</td>\n",
       "      <td>1314</td>\n",
       "      <td>2218</td>\n",
       "    </tr>\n",
       "    <tr>\n",
       "      <th>3</th>\n",
       "      <td>1380949200</td>\n",
       "      <td>1323</td>\n",
       "      <td>3566</td>\n",
       "      <td>1330</td>\n",
       "      <td>2573</td>\n",
       "    </tr>\n",
       "    <tr>\n",
       "      <th>4</th>\n",
       "      <td>1380949200</td>\n",
       "      <td>1328</td>\n",
       "      <td>2466</td>\n",
       "      <td>1323</td>\n",
       "      <td>2473</td>\n",
       "    </tr>\n",
       "  </tbody>\n",
       "</table>\n",
       "</div>"
      ],
      "text/plain": [
       "    Timestamp  Requested_Pickup  Requested_Dropoff  Actual_Pickup  \\\n",
       "0  1380949200              1149                725            218   \n",
       "1  1380949200              1225               1714           2003   \n",
       "2  1380949200              1237               3143           1314   \n",
       "3  1380949200              1323               3566           1330   \n",
       "4  1380949200              1328               2466           1323   \n",
       "\n",
       "   Actual_Dropoff  \n",
       "0            3601  \n",
       "1            3601  \n",
       "2            2218  \n",
       "3            2573  \n",
       "4            2473  "
      ]
     },
     "execution_count": 3,
     "metadata": {},
     "output_type": "execute_result"
    }
   ],
   "source": [
    "requests.head()"
   ]
  },
  {
   "cell_type": "markdown",
   "metadata": {},
   "source": [
    "## Vehicle Events"
   ]
  },
  {
   "cell_type": "code",
   "execution_count": 4,
   "metadata": {},
   "outputs": [],
   "source": [
    "v_e = pd.read_csv('vehicle_events.csv')"
   ]
  },
  {
   "cell_type": "code",
   "execution_count": 5,
   "metadata": {},
   "outputs": [
    {
     "data": {
      "text/html": [
       "<div>\n",
       "<style scoped>\n",
       "    .dataframe tbody tr th:only-of-type {\n",
       "        vertical-align: middle;\n",
       "    }\n",
       "\n",
       "    .dataframe tbody tr th {\n",
       "        vertical-align: top;\n",
       "    }\n",
       "\n",
       "    .dataframe thead th {\n",
       "        text-align: right;\n",
       "    }\n",
       "</style>\n",
       "<table border=\"1\" class=\"dataframe\">\n",
       "  <thead>\n",
       "    <tr style=\"text-align: right;\">\n",
       "      <th></th>\n",
       "      <th>Timestamp</th>\n",
       "      <th>Vehicle_ID</th>\n",
       "      <th>Stop_Intersection</th>\n",
       "      <th>Stop_Passengers</th>\n",
       "      <th>Requested_Stop_Intersection</th>\n",
       "    </tr>\n",
       "  </thead>\n",
       "  <tbody>\n",
       "    <tr>\n",
       "      <th>0</th>\n",
       "      <td>1380949200</td>\n",
       "      <td>83</td>\n",
       "      <td>2767</td>\n",
       "      <td>0</td>\n",
       "      <td>2764</td>\n",
       "    </tr>\n",
       "    <tr>\n",
       "      <th>1</th>\n",
       "      <td>1380949200</td>\n",
       "      <td>89</td>\n",
       "      <td>3070</td>\n",
       "      <td>0</td>\n",
       "      <td>1818</td>\n",
       "    </tr>\n",
       "    <tr>\n",
       "      <th>2</th>\n",
       "      <td>1380949200</td>\n",
       "      <td>112</td>\n",
       "      <td>97</td>\n",
       "      <td>0</td>\n",
       "      <td>972</td>\n",
       "    </tr>\n",
       "    <tr>\n",
       "      <th>3</th>\n",
       "      <td>1380949200</td>\n",
       "      <td>121</td>\n",
       "      <td>215</td>\n",
       "      <td>0</td>\n",
       "      <td>396</td>\n",
       "    </tr>\n",
       "    <tr>\n",
       "      <th>4</th>\n",
       "      <td>1380949200</td>\n",
       "      <td>141</td>\n",
       "      <td>1314</td>\n",
       "      <td>0</td>\n",
       "      <td>1237</td>\n",
       "    </tr>\n",
       "  </tbody>\n",
       "</table>\n",
       "</div>"
      ],
      "text/plain": [
       "    Timestamp  Vehicle_ID  Stop_Intersection  Stop_Passengers  \\\n",
       "0  1380949200          83               2767                0   \n",
       "1  1380949200          89               3070                0   \n",
       "2  1380949200         112                 97                0   \n",
       "3  1380949200         121                215                0   \n",
       "4  1380949200         141               1314                0   \n",
       "\n",
       "   Requested_Stop_Intersection  \n",
       "0                         2764  \n",
       "1                         1818  \n",
       "2                          972  \n",
       "3                          396  \n",
       "4                         1237  "
      ]
     },
     "execution_count": 5,
     "metadata": {},
     "output_type": "execute_result"
    }
   ],
   "source": [
    "v_e.head()"
   ]
  },
  {
   "cell_type": "markdown",
   "metadata": {},
   "source": [
    "## Vehicle Path"
   ]
  },
  {
   "cell_type": "code",
   "execution_count": 6,
   "metadata": {},
   "outputs": [],
   "source": [
    "v_p = pd.read_csv('vehicle_paths.csv')"
   ]
  },
  {
   "cell_type": "code",
   "execution_count": 7,
   "metadata": {},
   "outputs": [
    {
     "data": {
      "text/html": [
       "<div>\n",
       "<style scoped>\n",
       "    .dataframe tbody tr th:only-of-type {\n",
       "        vertical-align: middle;\n",
       "    }\n",
       "\n",
       "    .dataframe tbody tr th {\n",
       "        vertical-align: top;\n",
       "    }\n",
       "\n",
       "    .dataframe thead th {\n",
       "        text-align: right;\n",
       "    }\n",
       "</style>\n",
       "<table border=\"1\" class=\"dataframe\">\n",
       "  <thead>\n",
       "    <tr style=\"text-align: right;\">\n",
       "      <th></th>\n",
       "      <th>Timestamp</th>\n",
       "      <th>Vehicle_ID</th>\n",
       "      <th>Latitude</th>\n",
       "      <th>Longitude</th>\n",
       "      <th>Num_Passengers</th>\n",
       "    </tr>\n",
       "  </thead>\n",
       "  <tbody>\n",
       "    <tr>\n",
       "      <th>0</th>\n",
       "      <td>1380949200</td>\n",
       "      <td>83</td>\n",
       "      <td>40.73062</td>\n",
       "      <td>-73.99065</td>\n",
       "      <td>0</td>\n",
       "    </tr>\n",
       "    <tr>\n",
       "      <th>1</th>\n",
       "      <td>1380949200</td>\n",
       "      <td>89</td>\n",
       "      <td>40.71429</td>\n",
       "      <td>-74.01153</td>\n",
       "      <td>0</td>\n",
       "    </tr>\n",
       "    <tr>\n",
       "      <th>2</th>\n",
       "      <td>1380949200</td>\n",
       "      <td>112</td>\n",
       "      <td>40.77178</td>\n",
       "      <td>-73.97919</td>\n",
       "      <td>0</td>\n",
       "    </tr>\n",
       "    <tr>\n",
       "      <th>3</th>\n",
       "      <td>1380949200</td>\n",
       "      <td>121</td>\n",
       "      <td>40.73974</td>\n",
       "      <td>-74.00249</td>\n",
       "      <td>0</td>\n",
       "    </tr>\n",
       "    <tr>\n",
       "      <th>4</th>\n",
       "      <td>1380949200</td>\n",
       "      <td>141</td>\n",
       "      <td>40.77114</td>\n",
       "      <td>-73.96392</td>\n",
       "      <td>0</td>\n",
       "    </tr>\n",
       "  </tbody>\n",
       "</table>\n",
       "</div>"
      ],
      "text/plain": [
       "    Timestamp  Vehicle_ID  Latitude  Longitude  Num_Passengers\n",
       "0  1380949200          83  40.73062  -73.99065               0\n",
       "1  1380949200          89  40.71429  -74.01153               0\n",
       "2  1380949200         112  40.77178  -73.97919               0\n",
       "3  1380949200         121  40.73974  -74.00249               0\n",
       "4  1380949200         141  40.77114  -73.96392               0"
      ]
     },
     "execution_count": 7,
     "metadata": {},
     "output_type": "execute_result"
    }
   ],
   "source": [
    "v_p.head()"
   ]
  },
  {
   "cell_type": "markdown",
   "metadata": {},
   "source": [
    "# Second Challenge"
   ]
  },
  {
   "cell_type": "markdown",
   "metadata": {},
   "source": [
    "## Data Processing"
   ]
  },
  {
   "cell_type": "code",
   "execution_count": 8,
   "metadata": {},
   "outputs": [],
   "source": [
    "#Perform first join between first two data sets\n",
    "first_join = requests.merge(v_e, \n",
    "                            left_on = ['Requested_Pickup','Timestamp'], \n",
    "                            right_on = ['Requested_Stop_Intersection','Timestamp'], \n",
    "                            how = 'inner')"
   ]
  },
  {
   "cell_type": "code",
   "execution_count": 9,
   "metadata": {},
   "outputs": [],
   "source": [
    "#Perform second join to have all three datasets together\n",
    "second_join = first_join.merge(v_p,\n",
    "                              left_on = ['Vehicle_ID','Timestamp'],\n",
    "                              right_on = ['Vehicle_ID','Timestamp'],\n",
    "                              how = 'inner')"
   ]
  },
  {
   "cell_type": "code",
   "execution_count": 10,
   "metadata": {},
   "outputs": [
    {
     "data": {
      "text/html": [
       "<div>\n",
       "<style scoped>\n",
       "    .dataframe tbody tr th:only-of-type {\n",
       "        vertical-align: middle;\n",
       "    }\n",
       "\n",
       "    .dataframe tbody tr th {\n",
       "        vertical-align: top;\n",
       "    }\n",
       "\n",
       "    .dataframe thead th {\n",
       "        text-align: right;\n",
       "    }\n",
       "</style>\n",
       "<table border=\"1\" class=\"dataframe\">\n",
       "  <thead>\n",
       "    <tr style=\"text-align: right;\">\n",
       "      <th></th>\n",
       "      <th>Timestamp</th>\n",
       "      <th>Requested_Pickup</th>\n",
       "      <th>Requested_Dropoff</th>\n",
       "      <th>Actual_Pickup</th>\n",
       "      <th>Actual_Dropoff</th>\n",
       "      <th>Vehicle_ID</th>\n",
       "      <th>Stop_Intersection</th>\n",
       "      <th>Stop_Passengers</th>\n",
       "      <th>Requested_Stop_Intersection</th>\n",
       "      <th>Latitude</th>\n",
       "      <th>Longitude</th>\n",
       "      <th>Num_Passengers</th>\n",
       "    </tr>\n",
       "  </thead>\n",
       "  <tbody>\n",
       "    <tr>\n",
       "      <th>0</th>\n",
       "      <td>1380949200</td>\n",
       "      <td>1237</td>\n",
       "      <td>3143</td>\n",
       "      <td>1314</td>\n",
       "      <td>2218</td>\n",
       "      <td>141</td>\n",
       "      <td>1314</td>\n",
       "      <td>0</td>\n",
       "      <td>1237</td>\n",
       "      <td>40.77114</td>\n",
       "      <td>-73.96392</td>\n",
       "      <td>0</td>\n",
       "    </tr>\n",
       "    <tr>\n",
       "      <th>1</th>\n",
       "      <td>1380949200</td>\n",
       "      <td>1328</td>\n",
       "      <td>2466</td>\n",
       "      <td>1323</td>\n",
       "      <td>2473</td>\n",
       "      <td>211</td>\n",
       "      <td>1323</td>\n",
       "      <td>0</td>\n",
       "      <td>1328</td>\n",
       "      <td>40.73855</td>\n",
       "      <td>-73.99968</td>\n",
       "      <td>0</td>\n",
       "    </tr>\n",
       "    <tr>\n",
       "      <th>2</th>\n",
       "      <td>1380949200</td>\n",
       "      <td>1336</td>\n",
       "      <td>1311</td>\n",
       "      <td>1350</td>\n",
       "      <td>1326</td>\n",
       "      <td>495</td>\n",
       "      <td>1350</td>\n",
       "      <td>0</td>\n",
       "      <td>1336</td>\n",
       "      <td>40.77954</td>\n",
       "      <td>-73.95781</td>\n",
       "      <td>0</td>\n",
       "    </tr>\n",
       "    <tr>\n",
       "      <th>3</th>\n",
       "      <td>1380949200</td>\n",
       "      <td>1581</td>\n",
       "      <td>720</td>\n",
       "      <td>3501</td>\n",
       "      <td>1032</td>\n",
       "      <td>330</td>\n",
       "      <td>3501</td>\n",
       "      <td>0</td>\n",
       "      <td>1581</td>\n",
       "      <td>40.72730</td>\n",
       "      <td>-73.99363</td>\n",
       "      <td>0</td>\n",
       "    </tr>\n",
       "    <tr>\n",
       "      <th>4</th>\n",
       "      <td>1380949200</td>\n",
       "      <td>1818</td>\n",
       "      <td>2470</td>\n",
       "      <td>3070</td>\n",
       "      <td>4006</td>\n",
       "      <td>89</td>\n",
       "      <td>3070</td>\n",
       "      <td>0</td>\n",
       "      <td>1818</td>\n",
       "      <td>40.71429</td>\n",
       "      <td>-74.01153</td>\n",
       "      <td>0</td>\n",
       "    </tr>\n",
       "  </tbody>\n",
       "</table>\n",
       "</div>"
      ],
      "text/plain": [
       "    Timestamp  Requested_Pickup  Requested_Dropoff  Actual_Pickup  \\\n",
       "0  1380949200              1237               3143           1314   \n",
       "1  1380949200              1328               2466           1323   \n",
       "2  1380949200              1336               1311           1350   \n",
       "3  1380949200              1581                720           3501   \n",
       "4  1380949200              1818               2470           3070   \n",
       "\n",
       "   Actual_Dropoff  Vehicle_ID  Stop_Intersection  Stop_Passengers  \\\n",
       "0            2218         141               1314                0   \n",
       "1            2473         211               1323                0   \n",
       "2            1326         495               1350                0   \n",
       "3            1032         330               3501                0   \n",
       "4            4006          89               3070                0   \n",
       "\n",
       "   Requested_Stop_Intersection  Latitude  Longitude  Num_Passengers  \n",
       "0                         1237  40.77114  -73.96392               0  \n",
       "1                         1328  40.73855  -73.99968               0  \n",
       "2                         1336  40.77954  -73.95781               0  \n",
       "3                         1581  40.72730  -73.99363               0  \n",
       "4                         1818  40.71429  -74.01153               0  "
      ]
     },
     "execution_count": 10,
     "metadata": {},
     "output_type": "execute_result"
    }
   ],
   "source": [
    "second_join.head()"
   ]
  },
  {
   "cell_type": "code",
   "execution_count": 11,
   "metadata": {},
   "outputs": [],
   "source": [
    "#Find where no actual pikcup occured\n",
    "no_pickup = second_join.loc[second_join['Actual_Pickup']==-1]"
   ]
  },
  {
   "cell_type": "code",
   "execution_count": 16,
   "metadata": {},
   "outputs": [
    {
     "data": {
      "text/html": [
       "<div>\n",
       "<style scoped>\n",
       "    .dataframe tbody tr th:only-of-type {\n",
       "        vertical-align: middle;\n",
       "    }\n",
       "\n",
       "    .dataframe tbody tr th {\n",
       "        vertical-align: top;\n",
       "    }\n",
       "\n",
       "    .dataframe thead th {\n",
       "        text-align: right;\n",
       "    }\n",
       "</style>\n",
       "<table border=\"1\" class=\"dataframe\">\n",
       "  <thead>\n",
       "    <tr style=\"text-align: right;\">\n",
       "      <th></th>\n",
       "      <th>Timestamp</th>\n",
       "      <th>Requested_Pickup</th>\n",
       "      <th>Requested_Dropoff</th>\n",
       "      <th>Actual_Pickup</th>\n",
       "      <th>Actual_Dropoff</th>\n",
       "      <th>Vehicle_ID</th>\n",
       "      <th>Stop_Intersection</th>\n",
       "      <th>Stop_Passengers</th>\n",
       "      <th>Requested_Stop_Intersection</th>\n",
       "      <th>Latitude</th>\n",
       "      <th>Longitude</th>\n",
       "      <th>Num_Passengers</th>\n",
       "      <th>date_time</th>\n",
       "    </tr>\n",
       "  </thead>\n",
       "  <tbody>\n",
       "    <tr>\n",
       "      <th>113</th>\n",
       "      <td>1380949427</td>\n",
       "      <td>1389</td>\n",
       "      <td>3147</td>\n",
       "      <td>-1</td>\n",
       "      <td>-1</td>\n",
       "      <td>245</td>\n",
       "      <td>3188</td>\n",
       "      <td>1</td>\n",
       "      <td>1389</td>\n",
       "      <td>40.75552</td>\n",
       "      <td>-73.98362</td>\n",
       "      <td>1</td>\n",
       "      <td>NaN</td>\n",
       "    </tr>\n",
       "    <tr>\n",
       "      <th>115</th>\n",
       "      <td>1380949440</td>\n",
       "      <td>1856</td>\n",
       "      <td>1670</td>\n",
       "      <td>-1</td>\n",
       "      <td>-1</td>\n",
       "      <td>166</td>\n",
       "      <td>232</td>\n",
       "      <td>1</td>\n",
       "      <td>1856</td>\n",
       "      <td>40.75286</td>\n",
       "      <td>-73.99298</td>\n",
       "      <td>4</td>\n",
       "      <td>NaN</td>\n",
       "    </tr>\n",
       "    <tr>\n",
       "      <th>129</th>\n",
       "      <td>1380949631</td>\n",
       "      <td>396</td>\n",
       "      <td>2941</td>\n",
       "      <td>-1</td>\n",
       "      <td>-1</td>\n",
       "      <td>310</td>\n",
       "      <td>396</td>\n",
       "      <td>0</td>\n",
       "      <td>396</td>\n",
       "      <td>40.73940</td>\n",
       "      <td>-74.00645</td>\n",
       "      <td>1</td>\n",
       "      <td>NaN</td>\n",
       "    </tr>\n",
       "    <tr>\n",
       "      <th>130</th>\n",
       "      <td>1380949631</td>\n",
       "      <td>396</td>\n",
       "      <td>2941</td>\n",
       "      <td>-1</td>\n",
       "      <td>-1</td>\n",
       "      <td>310</td>\n",
       "      <td>396</td>\n",
       "      <td>1</td>\n",
       "      <td>396</td>\n",
       "      <td>40.73940</td>\n",
       "      <td>-74.00645</td>\n",
       "      <td>1</td>\n",
       "      <td>NaN</td>\n",
       "    </tr>\n",
       "    <tr>\n",
       "      <th>131</th>\n",
       "      <td>1380949639</td>\n",
       "      <td>2448</td>\n",
       "      <td>227</td>\n",
       "      <td>-1</td>\n",
       "      <td>-1</td>\n",
       "      <td>384</td>\n",
       "      <td>2451</td>\n",
       "      <td>0</td>\n",
       "      <td>2448</td>\n",
       "      <td>40.76143</td>\n",
       "      <td>-73.98405</td>\n",
       "      <td>3</td>\n",
       "      <td>NaN</td>\n",
       "    </tr>\n",
       "  </tbody>\n",
       "</table>\n",
       "</div>"
      ],
      "text/plain": [
       "      Timestamp  Requested_Pickup  Requested_Dropoff  Actual_Pickup  \\\n",
       "113  1380949427              1389               3147             -1   \n",
       "115  1380949440              1856               1670             -1   \n",
       "129  1380949631               396               2941             -1   \n",
       "130  1380949631               396               2941             -1   \n",
       "131  1380949639              2448                227             -1   \n",
       "\n",
       "     Actual_Dropoff  Vehicle_ID  Stop_Intersection  Stop_Passengers  \\\n",
       "113              -1         245               3188                1   \n",
       "115              -1         166                232                1   \n",
       "129              -1         310                396                0   \n",
       "130              -1         310                396                1   \n",
       "131              -1         384               2451                0   \n",
       "\n",
       "     Requested_Stop_Intersection  Latitude  Longitude  Num_Passengers  \\\n",
       "113                         1389  40.75552  -73.98362               1   \n",
       "115                         1856  40.75286  -73.99298               4   \n",
       "129                          396  40.73940  -74.00645               1   \n",
       "130                          396  40.73940  -74.00645               1   \n",
       "131                         2448  40.76143  -73.98405               3   \n",
       "\n",
       "     date_time  \n",
       "113        NaN  \n",
       "115        NaN  \n",
       "129        NaN  \n",
       "130        NaN  \n",
       "131        NaN  "
      ]
     },
     "execution_count": 16,
     "metadata": {},
     "output_type": "execute_result"
    }
   ],
   "source": [
    "no_pickup.head()"
   ]
  },
  {
   "cell_type": "code",
   "execution_count": 24,
   "metadata": {},
   "outputs": [
    {
     "name": "stderr",
     "output_type": "stream",
     "text": [
      "/anaconda2/envs/geog/lib/python3.7/site-packages/ipykernel_launcher.py:1: SettingWithCopyWarning:\n",
      "\n",
      "\n",
      "A value is trying to be set on a copy of a slice from a DataFrame.\n",
      "Try using .loc[row_indexer,col_indexer] = value instead\n",
      "\n",
      "See the caveats in the documentation: http://pandas.pydata.org/pandas-docs/stable/indexing.html#indexing-view-versus-copy\n",
      "\n",
      "/anaconda2/envs/geog/lib/python3.7/site-packages/ipykernel_launcher.py:4: SettingWithCopyWarning:\n",
      "\n",
      "\n",
      "A value is trying to be set on a copy of a slice from a DataFrame\n",
      "\n",
      "See the caveats in the documentation: http://pandas.pydata.org/pandas-docs/stable/indexing.html#indexing-view-versus-copy\n",
      "\n",
      "/anaconda2/envs/geog/lib/python3.7/site-packages/pandas/core/indexing.py:190: SettingWithCopyWarning:\n",
      "\n",
      "\n",
      "A value is trying to be set on a copy of a slice from a DataFrame\n",
      "\n",
      "See the caveats in the documentation: http://pandas.pydata.org/pandas-docs/stable/indexing.html#indexing-view-versus-copy\n",
      "\n"
     ]
    }
   ],
   "source": [
    "#Convert linux timestamp into datetime\n",
    "no_pickup['date_time'] = NaN\n",
    "no_pickup = no_pickup.reset_index()\n",
    "for i in range(len(no_pickup)):\n",
    "    no_pickup['date_time'][i] = time.strftime(\"%D %H:%M\", time.localtime(no_pickup['Timestamp'][i]))"
   ]
  },
  {
   "cell_type": "code",
   "execution_count": 28,
   "metadata": {},
   "outputs": [
    {
     "name": "stderr",
     "output_type": "stream",
     "text": [
      "/anaconda2/envs/geog/lib/python3.7/site-packages/ipykernel_launcher.py:4: SettingWithCopyWarning:\n",
      "\n",
      "\n",
      "A value is trying to be set on a copy of a slice from a DataFrame\n",
      "\n",
      "See the caveats in the documentation: http://pandas.pydata.org/pandas-docs/stable/indexing.html#indexing-view-versus-copy\n",
      "\n",
      "/anaconda2/envs/geog/lib/python3.7/site-packages/ipykernel_launcher.py:5: SettingWithCopyWarning:\n",
      "\n",
      "\n",
      "A value is trying to be set on a copy of a slice from a DataFrame\n",
      "\n",
      "See the caveats in the documentation: http://pandas.pydata.org/pandas-docs/stable/indexing.html#indexing-view-versus-copy\n",
      "\n"
     ]
    }
   ],
   "source": [
    "#Get just the hour from the timestamp\n",
    "no_pickup['date_time_split'] = no_pickup['date_time'].str.split(' ')\n",
    "no_pickup['hour'] = NaN\n",
    "for i in range(len(no_pickup)):\n",
    "    no_pickup['hour'][i] = no_pickup['date_time_split'][i][1]\n",
    "    no_pickup['hour'][i] = no_pickup['hour'].str.split(':')[i][0]\n",
    "no_pickup['hour'] = no_pickup['hour'].astype(float)"
   ]
  },
  {
   "cell_type": "code",
   "execution_count": 31,
   "metadata": {},
   "outputs": [],
   "source": [
    "#Replace zero with 24 to indicate the next day, October 6th\n",
    "no_pickup['hour'] = no_pickup.hour.replace(0,24)"
   ]
  },
  {
   "cell_type": "code",
   "execution_count": 32,
   "metadata": {},
   "outputs": [],
   "source": [
    "#Write out as a csv\n",
    "no_pickup.to_csv('challenge_2_dv.csv')"
   ]
  },
  {
   "cell_type": "markdown",
   "metadata": {},
   "source": [
    "## Visualization"
   ]
  },
  {
   "cell_type": "code",
   "execution_count": 37,
   "metadata": {
    "scrolled": false
   },
   "outputs": [
    {
     "name": "stderr",
     "output_type": "stream",
     "text": [
      "/anaconda2/envs/geog/lib/python3.7/site-packages/ipykernel_launcher.py:4: SettingWithCopyWarning:\n",
      "\n",
      "\n",
      "A value is trying to be set on a copy of a slice from a DataFrame.\n",
      "Try using .loc[row_indexer,col_indexer] = value instead\n",
      "\n",
      "See the caveats in the documentation: http://pandas.pydata.org/pandas-docs/stable/indexing.html#indexing-view-versus-copy\n",
      "\n"
     ]
    },
    {
     "data": {
      "text/html": [
       "<div style=\"width:100%;\"><div style=\"position:relative;width:100%;height:0;padding-bottom:60%;\"><iframe src=\"data:text/html;charset=utf-8;base64,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\" style=\"position:absolute;width:100%;height:100%;left:0;top:0;border:none !important;\" allowfullscreen webkitallowfullscreen mozallowfullscreen></iframe></div></div>"
      ],
      "text/plain": [
       "<folium.folium.Map at 0x119798da0>"
      ]
     },
     "execution_count": 37,
     "metadata": {},
     "output_type": "execute_result"
    }
   ],
   "source": [
    "#Create a base and heatmap\n",
    "m_2 = folium.Map(location=[40.774, -73.95], zoom_start = 12)\n",
    "\n",
    "lat_long_date = no_pickup[['Latitude', 'Longitude','hour']]\n",
    "lat_long_date['Timestamp'] = lat_long_date['hour'].astype(float)\n",
    "lat_long_date = lat_long_date.dropna(axis=0, subset=['Latitude','Longitude','hour'])\n",
    "\n",
    "# List comprehension to make out list of lists\n",
    "lat_long_date = [[[row['Latitude'],row['Longitude']] for index, \n",
    "             row in lat_long_date[lat_long_date['hour'] == i].iterrows()] for i in range(1,25)]\n",
    "\n",
    "hm = plugins.HeatMapWithTime(lat_long_date,auto_play=True,max_opacity=0.8)\n",
    "hm.add_to(m_2)\n",
    "# Display the map\n",
    "m_2"
   ]
  },
  {
   "cell_type": "code",
   "execution_count": 309,
   "metadata": {},
   "outputs": [],
   "source": [
    "m_2.save('challenge_2.html')"
   ]
  },
  {
   "cell_type": "markdown",
   "metadata": {},
   "source": [
    "# Fourth Challenge"
   ]
  },
  {
   "cell_type": "code",
   "execution_count": 323,
   "metadata": {},
   "outputs": [
    {
     "data": {
      "text/plain": [
       "[[[40.755520000000004, -73.98362],\n",
       "  [40.75286, -73.99298],\n",
       "  [40.7394, -74.00645],\n",
       "  [40.7394, -74.00645],\n",
       "  [40.76143, -73.98405],\n",
       "  [40.76143, -73.98405],\n",
       "  [40.739740000000005, -74.00249000000001],\n",
       "  [40.739740000000005, -74.00249000000001],\n",
       "  [40.75802, -73.96623000000001],\n",
       "  [40.75802, -73.96623000000001],\n",
       "  [40.76167, -73.97491],\n",
       "  [40.737359999999995, -73.99684],\n",
       "  [40.75456, -73.97165],\n",
       "  [40.75456, -73.97165],\n",
       "  [40.75796, -73.98553000000001],\n",
       "  [40.75796, -73.98553000000001],\n",
       "  [40.75029, -73.99485],\n",
       "  [40.75029, -73.99485],\n",
       "  [40.74285, -74.00027],\n",
       "  [40.75166, -73.99013000000001],\n",
       "  [40.73755, -74.00649],\n",
       "  [40.742129999999996, -74.00455],\n",
       "  [40.73876, -74.00646]],\n",
       " [[40.734790000000004, -73.99072],\n",
       "  [40.734790000000004, -73.99072],\n",
       "  [40.74085, -74.00513000000001],\n",
       "  [40.74085, -74.00513000000001],\n",
       "  [40.73295, -73.99799],\n",
       "  [40.73785, -74.00565999999999],\n",
       "  [40.71983, -73.98754],\n",
       "  [40.71983, -73.98754]],\n",
       " [[40.72388, -73.98208000000001]],\n",
       " [[40.74288, -74.004], [40.74288, -74.004]],\n",
       " [],\n",
       " [],\n",
       " [[40.75286, -73.99298],\n",
       "  [40.75286, -73.99298],\n",
       "  [40.75029, -73.99485],\n",
       "  [40.75973, -73.99168],\n",
       "  [40.753409999999995, -73.99632],\n",
       "  [40.753409999999995, -73.99632],\n",
       "  [40.706720000000004, -74.00678],\n",
       "  [40.706720000000004, -74.00678],\n",
       "  [40.75476, -73.98789000000001],\n",
       "  [40.75476, -73.98789000000001],\n",
       "  [40.75476, -73.98789000000001],\n",
       "  [40.75476, -73.98789000000001],\n",
       "  [40.75476, -73.98789000000001],\n",
       "  [40.75476, -73.98789000000001],\n",
       "  [40.7853, -73.95555999999999],\n",
       "  [40.7853, -73.95555999999999],\n",
       "  [40.75101, -73.99061],\n",
       "  [40.75101, -73.99061]],\n",
       " [[40.75229, -73.98969],\n",
       "  [40.75229, -73.98969],\n",
       "  [40.75229, -73.98969],\n",
       "  [40.75229, -73.98969],\n",
       "  [40.767540000000004, -73.95325],\n",
       "  [40.767540000000004, -73.95325],\n",
       "  [40.75101, -73.99061],\n",
       "  [40.75101, -73.99061],\n",
       "  [40.768029999999996, -73.98141],\n",
       "  [40.754129999999996, -73.98834000000001],\n",
       "  [40.754129999999996, -73.98834000000001],\n",
       "  [40.70971, -74.01284],\n",
       "  [40.70971, -74.01284],\n",
       "  [40.75101, -73.99061],\n",
       "  [40.75101, -73.99061],\n",
       "  [40.75723, -73.98979],\n",
       "  [40.75229, -73.98969],\n",
       "  [40.75229, -73.98969],\n",
       "  [40.75476, -73.98789000000001],\n",
       "  [40.75476, -73.98789000000001],\n",
       "  [40.75783, -73.99306999999999],\n",
       "  [40.75783, -73.99306999999999],\n",
       "  [40.7691, -73.95505]],\n",
       " [[40.733979999999995, -73.98668],\n",
       "  [40.75505, -73.98666],\n",
       "  [40.75505, -73.98666],\n",
       "  [40.74843, -73.9962],\n",
       "  [40.74843, -73.9962],\n",
       "  [40.74843, -73.9962],\n",
       "  [40.74843, -73.9962],\n",
       "  [40.74843, -73.9962],\n",
       "  [40.75595, -73.99073],\n",
       "  [40.75595, -73.99073],\n",
       "  [40.75595, -73.99073],\n",
       "  [40.75595, -73.99073],\n",
       "  [40.75595, -73.99073],\n",
       "  [40.75595, -73.99073],\n",
       "  [40.75595, -73.99073],\n",
       "  [40.75595, -73.99073],\n",
       "  [40.75595, -73.99073],\n",
       "  [40.75595, -73.99073],\n",
       "  [40.76092, -73.99453000000001],\n",
       "  [40.76092, -73.99453000000001],\n",
       "  [40.76041, -73.98748],\n",
       "  [40.76041, -73.98748],\n",
       "  [40.7473, -73.97404],\n",
       "  [40.75166, -73.99013000000001],\n",
       "  [40.75166, -73.99013000000001],\n",
       "  [40.7522, -73.99346],\n",
       "  [40.7522, -73.99346],\n",
       "  [40.7522, -73.99346],\n",
       "  [40.7522, -73.99346],\n",
       "  [40.74351, -73.97681999999999],\n",
       "  [40.74351, -73.97681999999999],\n",
       "  [40.77173, -73.96125],\n",
       "  [40.77173, -73.96125],\n",
       "  [40.750690000000006, -73.98781],\n",
       "  [40.750690000000006, -73.98781],\n",
       "  [40.750690000000006, -73.98781],\n",
       "  [40.750690000000006, -73.98781],\n",
       "  [40.76652, -73.95693],\n",
       "  [40.76652, -73.95693],\n",
       "  [40.76652, -73.95693],\n",
       "  [40.76652, -73.95693],\n",
       "  [40.76652, -73.95693],\n",
       "  [40.733290000000004, -73.98718000000001],\n",
       "  [40.733290000000004, -73.98718000000001],\n",
       "  [40.753479999999996, -73.99253],\n",
       "  [40.753479999999996, -73.99253],\n",
       "  [40.74971, -73.99155999999999],\n",
       "  [40.74971, -73.99155999999999],\n",
       "  [40.74971, -73.99155999999999],\n",
       "  [40.74843, -73.9962],\n",
       "  [40.74843, -73.9962],\n",
       "  [40.74843, -73.9962],\n",
       "  [40.74843, -73.9962],\n",
       "  [40.74087, -73.98593000000001],\n",
       "  [40.764920000000004, -73.95517],\n",
       "  [40.764920000000004, -73.95517],\n",
       "  [40.75853, -73.98884],\n",
       "  [40.75853, -73.98884],\n",
       "  [40.79787, -73.96956999999999],\n",
       "  [40.74852, -73.9887],\n",
       "  [40.74852, -73.9887],\n",
       "  [40.71996, -74.00858000000001],\n",
       "  [40.71996, -74.00858000000001],\n",
       "  [40.7528, -73.97929],\n",
       "  [40.7528, -73.97929],\n",
       "  [40.73979, -73.97954],\n",
       "  [40.73979, -73.97954],\n",
       "  [40.75031, -73.99112],\n",
       "  [40.75031, -73.99112],\n",
       "  [40.75031, -73.99112],\n",
       "  [40.75031, -73.99112],\n",
       "  [40.75031, -73.99112],\n",
       "  [40.75031, -73.99112],\n",
       "  [40.75031, -73.99112],\n",
       "  [40.75031, -73.99112],\n",
       "  [40.75031, -73.99112],\n",
       "  [40.75031, -73.99112],\n",
       "  [40.77042, -73.96011],\n",
       "  [40.77042, -73.96011],\n",
       "  [40.74971, -73.99155999999999],\n",
       "  [40.74971, -73.99155999999999],\n",
       "  [40.74971, -73.99155999999999],\n",
       "  [40.74388, -73.98156],\n",
       "  [40.73638, -73.98494000000001],\n",
       "  [40.763490000000004, -73.96921999999999],\n",
       "  [40.763490000000004, -73.96921999999999],\n",
       "  [40.74481, -73.99141999999999],\n",
       "  [40.74481, -73.99141999999999]],\n",
       " [[40.75462, -73.99715],\n",
       "  [40.75462, -73.99715],\n",
       "  [40.7522, -73.99346],\n",
       "  [40.7522, -73.99346],\n",
       "  [40.7528, -73.97929],\n",
       "  [40.75158, -73.98228],\n",
       "  [40.76348, -73.96727],\n",
       "  [40.76348, -73.96727],\n",
       "  [40.788579999999996, -73.95528],\n",
       "  [40.788579999999996, -73.95528],\n",
       "  [40.748470000000005, -73.99246],\n",
       "  [40.75166, -73.99013000000001],\n",
       "  [40.75166, -73.99013000000001],\n",
       "  [40.75229, -73.98969],\n",
       "  [40.75229, -73.98969],\n",
       "  [40.75802, -73.9818],\n",
       "  [40.75802, -73.9818],\n",
       "  [40.75802, -73.9818],\n",
       "  [40.74155, -73.9896],\n",
       "  [40.75229, -73.98969],\n",
       "  [40.76923, -73.9673],\n",
       "  [40.76923, -73.9673],\n",
       "  [40.75541, -73.97948000000001],\n",
       "  [40.753370000000004, -73.97465],\n",
       "  [40.76713, -73.9937],\n",
       "  [40.74167, -74.00112],\n",
       "  [40.74167, -74.00112],\n",
       "  [40.74167, -74.00112],\n",
       "  [40.74167, -74.00112],\n",
       "  [40.74167, -74.00112],\n",
       "  [40.74167, -74.00112],\n",
       "  [40.74167, -74.00112],\n",
       "  [40.76343, -73.96521],\n",
       "  [40.756029999999996, -73.97901999999999],\n",
       "  [40.756029999999996, -73.97901999999999],\n",
       "  [40.77102, -73.95365],\n",
       "  [40.80052, -73.95787],\n",
       "  [40.80052, -73.95787],\n",
       "  [40.7529, -73.98924],\n",
       "  [40.7529, -73.98924],\n",
       "  [40.7529, -73.98924],\n",
       "  [40.753479999999996, -73.98089],\n",
       "  [40.753479999999996, -73.98089],\n",
       "  [40.75229, -73.98969],\n",
       "  [40.75229, -73.98969],\n",
       "  [40.76768, -73.98188],\n",
       "  [40.76768, -73.98188],\n",
       "  [40.76889, -73.98199],\n",
       "  [40.736670000000004, -73.99734000000001],\n",
       "  [40.736670000000004, -73.99734000000001],\n",
       "  [40.7528, -73.97929],\n",
       "  [40.7528, -73.97929],\n",
       "  [40.762240000000006, -73.96818],\n",
       "  [40.7483, -73.98819],\n",
       "  [40.7483, -73.98819],\n",
       "  [40.738690000000005, -73.99587],\n",
       "  [40.75029, -73.99485],\n",
       "  [40.75029, -73.99485],\n",
       "  [40.747859999999996, -73.99291],\n",
       "  [40.747859999999996, -73.99291],\n",
       "  [40.779509999999995, -73.95558],\n",
       "  [40.779509999999995, -73.95558],\n",
       "  [40.748470000000005, -73.99246],\n",
       "  [40.748470000000005, -73.99246],\n",
       "  [40.74343, -73.99613000000001],\n",
       "  [40.75395, -73.99761],\n",
       "  [40.74971, -73.99155999999999],\n",
       "  [40.74971, -73.99155999999999],\n",
       "  [40.74971, -73.99155999999999],\n",
       "  [40.74971, -73.99155999999999],\n",
       "  [40.74971, -73.99155999999999],\n",
       "  [40.74971, -73.99155999999999],\n",
       "  [40.7711, -73.96593],\n",
       "  [40.753409999999995, -73.99632],\n",
       "  [40.753409999999995, -73.99632],\n",
       "  [40.74653, -73.98595],\n",
       "  [40.74653, -73.98595],\n",
       "  [40.75029, -73.99485],\n",
       "  [40.75029, -73.99485],\n",
       "  [40.73366, -73.99951999999999],\n",
       "  [40.73366, -73.99951999999999],\n",
       "  [40.75677, -73.98271],\n",
       "  [40.7717, -73.95918],\n",
       "  [40.7717, -73.95918],\n",
       "  [40.7717, -73.95918]],\n",
       " [[40.75597, -73.975],\n",
       "  [40.75597, -73.975],\n",
       "  [40.77172, -73.96319],\n",
       "  [40.746, -73.99426],\n",
       "  [40.746, -73.99426],\n",
       "  [40.762879999999996, -73.96968000000001],\n",
       "  [40.75101, -73.99061],\n",
       "  [40.75101, -73.99061],\n",
       "  [40.760040000000004, -73.96292],\n",
       "  [40.76725, -73.98621],\n",
       "  [40.74662, -73.99381],\n",
       "  [40.74662, -73.99381],\n",
       "  [40.74835, -74.00368],\n",
       "  [40.74835, -74.00368],\n",
       "  [40.7678, -73.956],\n",
       "  [40.77755, -73.94888],\n",
       "  [40.77755, -73.94888],\n",
       "  [40.75205, -73.97346999999999],\n",
       "  [40.72636, -73.99173],\n",
       "  [40.72636, -73.99173],\n",
       "  [40.75523, -73.97327],\n",
       "  [40.75523, -73.97327],\n",
       "  [40.75241, -73.97835],\n",
       "  [40.7479, -73.98916],\n",
       "  [40.7479, -73.98916],\n",
       "  [40.74343, -73.99613000000001],\n",
       "  [40.74343, -73.99613000000001],\n",
       "  [40.76858, -73.98523],\n",
       "  [40.76858, -73.98523],\n",
       "  [40.77619, -73.94986999999999],\n",
       "  [40.74843, -73.98458000000001],\n",
       "  [40.74843, -73.98458000000001],\n",
       "  [40.74947, -73.97535],\n",
       "  [40.74947, -73.97535],\n",
       "  [40.74843, -73.9962],\n",
       "  [40.77827, -73.9607],\n",
       "  [40.77827, -73.9607],\n",
       "  [40.757220000000004, -73.97409],\n",
       "  [40.75783, -73.99306999999999],\n",
       "  [40.75783, -73.99306999999999],\n",
       "  [40.75783, -73.99306999999999],\n",
       "  [40.75783, -73.99306999999999],\n",
       "  [40.77879, -73.98206],\n",
       "  [40.77879, -73.98206],\n",
       "  [40.77474, -73.98231],\n",
       "  [40.77474, -73.98231],\n",
       "  [40.75029, -73.99485],\n",
       "  [40.75029, -73.99485],\n",
       "  [40.75029, -73.99485],\n",
       "  [40.75029, -73.99485],\n",
       "  [40.75029, -73.99485],\n",
       "  [40.75029, -73.99485],\n",
       "  [40.78791, -73.95577],\n",
       "  [40.78791, -73.95577],\n",
       "  [40.77053, -73.98011],\n",
       "  [40.77053, -73.98011],\n",
       "  [40.77053, -73.98011],\n",
       "  [40.77053, -73.98011],\n",
       "  [40.77053, -73.98011],\n",
       "  [40.77053, -73.98011],\n",
       "  [40.76109, -73.98325],\n",
       "  [40.76109, -73.98325],\n",
       "  [40.75533, -73.99118],\n",
       "  [40.75046, -73.98728],\n",
       "  [40.74905, -73.99575],\n",
       "  [40.74905, -73.99575]],\n",
       " [[40.74088, -73.98798000000001],\n",
       "  [40.76587, -73.95741],\n",
       "  [40.76587, -73.95741],\n",
       "  [40.736670000000004, -73.99734000000001],\n",
       "  [40.736670000000004, -73.99734000000001],\n",
       "  [40.769909999999996, -73.98058],\n",
       "  [40.769909999999996, -73.98058],\n",
       "  [40.769909999999996, -73.98058],\n",
       "  [40.76567, -73.97622],\n",
       "  [40.76567, -73.97622],\n",
       "  [40.78517, -73.97314],\n",
       "  [40.78347, -73.95900999999999],\n",
       "  [40.78347, -73.95900999999999],\n",
       "  [40.7483, -73.98819],\n",
       "  [40.7483, -73.98819],\n",
       "  [40.7483, -73.98819],\n",
       "  [40.7483, -73.98819],\n",
       "  [40.7483, -73.98819],\n",
       "  [40.74666, -73.99006999999999],\n",
       "  [40.76104, -73.97537],\n",
       "  [40.76104, -73.97537],\n",
       "  [40.74155, -73.9896],\n",
       "  [40.76157, -73.97066],\n",
       "  [40.76157, -73.97066],\n",
       "  [40.76157, -73.97066],\n",
       "  [40.76157, -73.97066],\n",
       "  [40.7424, -73.98895999999999],\n",
       "  [40.76167, -73.97491],\n",
       "  [40.76167, -73.97491],\n",
       "  [40.759840000000004, -73.98416999999999],\n",
       "  [40.76845, -73.98905],\n",
       "  [40.78457, -73.97958],\n",
       "  [40.78457, -73.97958],\n",
       "  [40.78263, -73.97499],\n",
       "  [40.7529, -73.98924],\n",
       "  [40.76432, -73.9772],\n",
       "  [40.76432, -73.9772],\n",
       "  [40.76404, -73.98248000000001],\n",
       "  [40.74971, -73.99155999999999],\n",
       "  [40.760459999999995, -73.98371],\n",
       "  [40.76036, -73.97377],\n",
       "  [40.77402, -73.95456],\n",
       "  [40.77402, -73.95456],\n",
       "  [40.753479999999996, -73.98089],\n",
       "  [40.753479999999996, -73.98089],\n",
       "  [40.76603, -73.98338000000001],\n",
       "  [40.76603, -73.98338000000001],\n",
       "  [40.75166, -73.99013000000001]],\n",
       " [[40.76889, -73.98199],\n",
       "  [40.76889, -73.98199],\n",
       "  [40.741620000000005, -73.99374],\n",
       "  [40.76167, -73.97491],\n",
       "  [40.760259999999995, -73.96754],\n",
       "  [40.74103, -73.99416],\n",
       "  [40.77883, -73.95398],\n",
       "  [40.76432, -73.9772],\n",
       "  [40.76422, -73.97095],\n",
       "  [40.747859999999996, -73.99291],\n",
       "  [40.747859999999996, -73.99291],\n",
       "  [40.74982, -73.98775],\n",
       "  [40.7731, -73.96448000000001],\n",
       "  [40.74972, -73.98362],\n",
       "  [40.759159999999994, -73.98839],\n",
       "  [40.759159999999994, -73.98839],\n",
       "  [40.759640000000005, -73.97206],\n",
       "  [40.759640000000005, -73.97206],\n",
       "  [40.77943, -73.94751],\n",
       "  [40.77943, -73.94751],\n",
       "  [40.775529999999996, -73.97646],\n",
       "  [40.77135, -73.98205],\n",
       "  [40.77793, -73.98213],\n",
       "  [40.77793, -73.98213],\n",
       "  [40.76428, -73.97301999999999],\n",
       "  [40.75837, -73.97099],\n",
       "  [40.7491, -73.99201],\n",
       "  [40.76367, -73.95608],\n",
       "  [40.75785, -73.97363],\n",
       "  [40.75785, -73.97363],\n",
       "  [40.77081, -73.99467],\n",
       "  [40.77081, -73.99467],\n",
       "  [40.774159999999995, -73.98488],\n",
       "  [40.774159999999995, -73.98488],\n",
       "  [40.76984, -73.98432],\n",
       "  [40.76984, -73.98432],\n",
       "  [40.78303, -73.98213],\n",
       "  [40.78303, -73.98213],\n",
       "  [40.75461, -73.97373],\n",
       "  [40.75461, -73.97373],\n",
       "  [40.74843, -73.9962],\n",
       "  [40.74843, -73.9962],\n",
       "  [40.74843, -73.9962],\n",
       "  [40.76041, -73.98748],\n",
       "  [40.74085, -74.00513000000001],\n",
       "  [40.75638, -73.96432],\n",
       "  [40.75665, -73.97856999999999],\n",
       "  [40.75019, -73.97896],\n",
       "  [40.777, -73.96375],\n",
       "  [40.71437, -74.0084],\n",
       "  [40.71437, -74.0084],\n",
       "  [40.753479999999996, -73.98089],\n",
       "  [40.753479999999996, -73.98089],\n",
       "  [40.753479999999996, -73.98089],\n",
       "  [40.76536, -73.9659],\n",
       "  [40.77061, -73.98227],\n",
       "  [40.77061, -73.98227],\n",
       "  [40.77061, -73.98227],\n",
       "  [40.77061, -73.98227],\n",
       "  [40.77145, -73.98227],\n",
       "  [40.77145, -73.98227],\n",
       "  [40.78013, -73.95706],\n",
       "  [40.74662, -73.99381],\n",
       "  [40.77166, -73.95319],\n",
       "  [40.760259999999995, -73.96754],\n",
       "  [40.760259999999995, -73.96754],\n",
       "  [40.75152, -73.99395],\n",
       "  [40.75152, -73.99395],\n",
       "  [40.75101, -73.99061],\n",
       "  [40.75101, -73.99061]],\n",
       " [[40.76242, -73.957],\n",
       "  [40.75963, -73.97009],\n",
       "  [40.75963, -73.97009],\n",
       "  [40.74662, -73.99381],\n",
       "  [40.77098, -73.99091],\n",
       "  [40.77098, -73.99091],\n",
       "  [40.74818, -74.00765],\n",
       "  [40.74818, -74.00765],\n",
       "  [40.75101, -73.99061],\n",
       "  [40.75101, -73.99061],\n",
       "  [40.76177, -73.97906],\n",
       "  [40.76177, -73.97906],\n",
       "  [40.780429999999996, -73.94988000000001],\n",
       "  [40.7688, -73.95836],\n",
       "  [40.76688, -73.97908000000001],\n",
       "  [40.747859999999996, -73.99291],\n",
       "  [40.747859999999996, -73.99291],\n",
       "  [40.74155, -73.9896],\n",
       "  [40.74155, -73.9896],\n",
       "  [40.743390000000005, -73.98615],\n",
       "  [40.743390000000005, -73.98615],\n",
       "  [40.77827, -73.95873],\n",
       "  [40.74843, -73.9962],\n",
       "  [40.76818, -73.95278],\n",
       "  [40.76818, -73.95278],\n",
       "  [40.72056, -74.00348000000001],\n",
       "  [40.72056, -74.00348000000001],\n",
       "  [40.754090000000005, -73.99208],\n",
       "  [40.754090000000005, -73.99208],\n",
       "  [40.754090000000005, -73.99208],\n",
       "  [40.774640000000005, -73.98209],\n",
       "  [40.77238, -73.96078],\n",
       "  [40.77238, -73.96078],\n",
       "  [40.76399, -73.95878],\n",
       "  [40.74604, -73.99051999999999],\n",
       "  [40.74604, -73.99051999999999],\n",
       "  [40.75802, -73.9818],\n",
       "  [40.754129999999996, -73.98834000000001],\n",
       "  [40.71522, -74.01321],\n",
       "  [40.71522, -74.01321],\n",
       "  [40.763659999999994, -73.97346999999999],\n",
       "  [40.772690000000004, -73.94949],\n",
       "  [40.772690000000004, -73.94949],\n",
       "  [40.78067, -73.97641999999999],\n",
       "  [40.78067, -73.97641999999999],\n",
       "  [40.75853, -73.98884],\n",
       "  [40.75712, -73.97191],\n",
       "  [40.7429, -73.99280999999999]],\n",
       " [[40.72293, -74.00218000000001],\n",
       "  [40.72293, -74.00218000000001],\n",
       "  [40.75101, -73.99061],\n",
       "  [40.75101, -73.99061],\n",
       "  [40.78517, -73.97314],\n",
       "  [40.76967, -73.982],\n",
       "  [40.76967, -73.982],\n",
       "  [40.748470000000005, -73.99246],\n",
       "  [40.748470000000005, -73.99246],\n",
       "  [40.75991, -73.98042],\n",
       "  [40.75991, -73.98042],\n",
       "  [40.70515, -74.00998],\n",
       "  [40.72661, -73.99906999999999],\n",
       "  [40.7509, -73.98068],\n",
       "  [40.7714, -73.95647],\n",
       "  [40.77568, -73.9647],\n",
       "  [40.77568, -73.9647],\n",
       "  [40.7479, -73.98916],\n",
       "  [40.74212, -74.00818000000001],\n",
       "  [40.74343, -73.99985],\n",
       "  [40.73794, -73.98683],\n",
       "  [40.76229, -73.97446],\n",
       "  [40.76229, -73.97446],\n",
       "  [40.76229, -73.97446],\n",
       "  [40.74017, -73.9863],\n",
       "  [40.74017, -73.9863],\n",
       "  [40.757220000000004, -73.97409],\n",
       "  [40.757220000000004, -73.97409],\n",
       "  [40.750690000000006, -73.98781],\n",
       "  [40.754129999999996, -73.98834000000001],\n",
       "  [40.754129999999996, -73.98834000000001],\n",
       "  [40.779509999999995, -73.95558],\n",
       "  [40.779509999999995, -73.95558],\n",
       "  [40.75895, -73.96846],\n",
       "  [40.7839, -73.97407],\n",
       "  [40.7839, -73.97407],\n",
       "  [40.7509, -73.99816],\n",
       "  [40.76677, -73.97119],\n",
       "  [40.76677, -73.97119],\n",
       "  [40.72958, -73.99325999999999],\n",
       "  [40.72958, -73.99325999999999],\n",
       "  [40.74852, -73.9887],\n",
       "  [40.74852, -73.9887],\n",
       "  [40.75854, -73.9772],\n",
       "  [40.75854, -73.9772],\n",
       "  [40.77174, -73.98297],\n",
       "  [40.77174, -73.98297],\n",
       "  [40.741620000000005, -73.99374],\n",
       "  [40.741620000000005, -73.99374],\n",
       "  [40.75273, -73.9968],\n",
       "  [40.75273, -73.9968],\n",
       "  [40.74967, -73.98156999999999],\n",
       "  [40.76297, -73.97397],\n",
       "  [40.780229999999996, -73.96138],\n",
       "  [40.761720000000004, -73.98281],\n",
       "  [40.717259999999996, -74.01304],\n",
       "  [40.76027, -73.9716],\n",
       "  [40.73794, -73.98683],\n",
       "  [40.73794, -73.98683],\n",
       "  [40.75395, -73.99761],\n",
       "  [40.767540000000004, -73.95325],\n",
       "  [40.75589, -73.97479],\n",
       "  [40.75589, -73.97479],\n",
       "  [40.74638, -73.97761],\n",
       "  [40.74638, -73.97761],\n",
       "  [40.75537, -73.98745]],\n",
       " [[40.77052, -73.98204],\n",
       "  [40.77052, -73.98204],\n",
       "  [40.7674, -73.9824],\n",
       "  [40.7674, -73.9824],\n",
       "  [40.75101, -73.99061],\n",
       "  [40.75101, -73.99061],\n",
       "  [40.75101, -73.99061],\n",
       "  [40.75101, -73.99061],\n",
       "  [40.75101, -73.99061],\n",
       "  [40.753479999999996, -73.99253],\n",
       "  [40.753479999999996, -73.99253],\n",
       "  [40.7429, -73.99280999999999],\n",
       "  [40.79214, -73.97376],\n",
       "  [40.79214, -73.97376],\n",
       "  [40.7591, -73.99214],\n",
       "  [40.772459999999995, -73.96494],\n",
       "  [40.72053, -73.98986],\n",
       "  [40.72053, -73.98986],\n",
       "  [40.74967, -73.9953],\n",
       "  [40.7704, -73.9541],\n",
       "  [40.7704, -73.9541],\n",
       "  [40.75152, -73.99395],\n",
       "  [40.76166, -73.97086],\n",
       "  [40.76166, -73.97086],\n",
       "  [40.7522, -73.99346],\n",
       "  [40.7688, -73.95836],\n",
       "  [40.7688, -73.95836],\n",
       "  [40.76104, -73.97537],\n",
       "  [40.75497, -73.97652],\n",
       "  [40.75979, -73.98793],\n",
       "  [40.75979, -73.98793],\n",
       "  [40.758390000000006, -73.97296999999999],\n",
       "  [40.758390000000006, -73.97296999999999],\n",
       "  [40.765029999999996, -73.97668],\n",
       "  [40.765029999999996, -73.97668],\n",
       "  [40.78086, -73.96092],\n",
       "  [40.78086, -73.96092],\n",
       "  [40.7636, -73.98143],\n",
       "  [40.745290000000004, -73.98873],\n",
       "  [40.745290000000004, -73.98873],\n",
       "  [40.76315, -73.99979],\n",
       "  [40.742290000000004, -74.00443],\n",
       "  [40.742290000000004, -74.00443],\n",
       "  [40.75463, -73.9757],\n",
       "  [40.75865, -73.98134]],\n",
       " [[40.76095, -73.96703000000001],\n",
       "  [40.76095, -73.96703000000001],\n",
       "  [40.7528, -73.97929],\n",
       "  [40.7528, -73.97929],\n",
       "  [40.738690000000005, -73.99587],\n",
       "  [40.76652, -73.95693],\n",
       "  [40.77691, -73.95747],\n",
       "  [40.75537, -73.98745],\n",
       "  [40.76297, -73.97397],\n",
       "  [40.7691, -73.95505],\n",
       "  [40.75101, -73.99061],\n",
       "  [40.75101, -73.99061],\n",
       "  [40.76432, -73.9772],\n",
       "  [40.77497, -73.95889],\n",
       "  [40.77497, -73.95889],\n",
       "  [40.7395, -73.98476],\n",
       "  [40.7395, -73.98476],\n",
       "  [40.763490000000004, -73.96921999999999]],\n",
       " [[40.74982, -73.98775],\n",
       "  [40.7643, -73.95562],\n",
       "  [40.7643, -73.95562],\n",
       "  [40.7731, -73.96448000000001],\n",
       "  [40.7731, -73.96448000000001],\n",
       "  [40.745329999999996, -73.99856],\n",
       "  [40.745329999999996, -73.99856],\n",
       "  [40.7491, -73.99201],\n",
       "  [40.7491, -73.99201],\n",
       "  [40.76845, -73.96155],\n",
       "  [40.753479999999996, -73.98089],\n",
       "  [40.753479999999996, -73.98089],\n",
       "  [40.74905, -73.99575],\n",
       "  [40.774159999999995, -73.98488],\n",
       "  [40.774159999999995, -73.98488],\n",
       "  [40.75077, -73.97654],\n",
       "  [40.75077, -73.97654],\n",
       "  [40.77714, -73.98222],\n",
       "  [40.77714, -73.98222],\n",
       "  [40.761140000000005, -73.97952],\n",
       "  [40.761140000000005, -73.97952],\n",
       "  [40.74103, -73.99416],\n",
       "  [40.74103, -73.99416],\n",
       "  [40.7429, -73.99280999999999],\n",
       "  [40.7429, -73.99280999999999],\n",
       "  [40.7478, -73.98095],\n",
       "  [40.7478, -73.98095],\n",
       "  [40.77814, -73.95448],\n",
       "  [40.77814, -73.95448],\n",
       "  [40.75142, -73.97804000000001],\n",
       "  [40.75142, -73.97804000000001],\n",
       "  [40.79473, -73.96986],\n",
       "  [40.79473, -73.96986],\n",
       "  [40.76335, -73.98283],\n",
       "  [40.76335, -73.98283],\n",
       "  [40.75077, -73.97654],\n",
       "  [40.74343, -73.99613000000001],\n",
       "  [40.74343, -73.99613000000001],\n",
       "  [40.7711, -73.96171],\n",
       "  [40.7711, -73.96171],\n",
       "  [40.75205, -73.97346999999999],\n",
       "  [40.75205, -73.97346999999999],\n",
       "  [40.74843, -73.9962],\n",
       "  [40.75029, -73.99485],\n",
       "  [40.75029, -73.99485],\n",
       "  [40.76536, -73.9659],\n",
       "  [40.75595, -73.99073],\n",
       "  [40.75595, -73.99073],\n",
       "  [40.74357, -73.99231999999999],\n",
       "  [40.77755, -73.94888],\n",
       "  [40.77755, -73.94888],\n",
       "  [40.751509999999996, -73.97825999999999],\n",
       "  [40.762879999999996, -73.96968000000001],\n",
       "  [40.77203, -73.95600999999999],\n",
       "  [40.77203, -73.95600999999999],\n",
       "  [40.75029, -73.99485],\n",
       "  [40.75029, -73.99485]],\n",
       " [[40.74818, -74.00765],\n",
       "  [40.77053, -73.98011],\n",
       "  [40.753479999999996, -73.97878],\n",
       "  [40.75101, -73.99061],\n",
       "  [40.76157, -73.97066],\n",
       "  [40.73467, -73.99459],\n",
       "  [40.75076, -73.97440999999999],\n",
       "  [40.74058, -73.98935],\n",
       "  [40.74058, -73.98935],\n",
       "  [40.777, -73.96375],\n",
       "  [40.754329999999996, -73.98689],\n",
       "  [40.754329999999996, -73.98689],\n",
       "  [40.747240000000005, -73.99336],\n",
       "  [40.76977, -73.98808000000001],\n",
       "  [40.76977, -73.98808000000001],\n",
       "  [40.72661, -73.99906999999999],\n",
       "  [40.72661, -73.99906999999999],\n",
       "  [40.75392, -73.97211],\n",
       "  [40.75392, -73.97211],\n",
       "  [40.7803, -73.98567],\n",
       "  [40.7803, -73.98567],\n",
       "  [40.76474, -73.98803000000001],\n",
       "  [40.76474, -73.98803000000001],\n",
       "  [40.7711, -73.96171],\n",
       "  [40.7711, -73.96171],\n",
       "  [40.763020000000004, -73.97814],\n",
       "  [40.763020000000004, -73.97814],\n",
       "  [40.74852, -73.9887],\n",
       "  [40.74852, -73.9887],\n",
       "  [40.70915, -74.01054],\n",
       "  [40.70915, -74.01054],\n",
       "  [40.725770000000004, -74.0009],\n",
       "  [40.76167, -73.98657],\n",
       "  [40.75328, -73.96665],\n",
       "  [40.74754, -73.97077],\n",
       "  [40.74754, -73.97077],\n",
       "  [40.73658, -73.98906],\n",
       "  [40.77174, -73.98297],\n",
       "  [40.77174, -73.98297],\n",
       "  [40.77174, -73.98297],\n",
       "  [40.77174, -73.98297],\n",
       "  [40.76587, -73.95741],\n",
       "  [40.76587, -73.95741],\n",
       "  [40.73942, -74.00386999999999],\n",
       "  [40.74586, -74.00186],\n",
       "  [40.757690000000004, -73.96937],\n",
       "  [40.757690000000004, -73.96937],\n",
       "  [40.757690000000004, -73.96937],\n",
       "  [40.757690000000004, -73.96937],\n",
       "  [40.757690000000004, -73.96937],\n",
       "  [40.76095, -73.96703000000001],\n",
       "  [40.76095, -73.96703000000001],\n",
       "  [40.76769, -73.982],\n",
       "  [40.76769, -73.982],\n",
       "  [40.76275, -73.99691999999999],\n",
       "  [40.75352, -73.98879000000001],\n",
       "  [40.75352, -73.98879000000001],\n",
       "  [40.753859999999996, -74.00338],\n",
       "  [40.76271, -73.98321999999999],\n",
       "  [40.76271, -73.98321999999999],\n",
       "  [40.74165, -73.97819],\n",
       "  [40.73619, -73.979],\n",
       "  [40.73619, -73.979],\n",
       "  [40.73619, -73.979],\n",
       "  [40.747609999999995, -73.9767],\n",
       "  [40.72847, -74.0028],\n",
       "  [40.72847, -74.0028],\n",
       "  [40.75898, -73.99394000000001],\n",
       "  [40.75898, -73.99394000000001],\n",
       "  [40.73353, -73.98987],\n",
       "  [40.73353, -73.98987],\n",
       "  [40.76011, -73.98481],\n",
       "  [40.76011, -73.98481],\n",
       "  [40.74085, -74.00513000000001],\n",
       "  [40.76531, -73.99133],\n",
       "  [40.74155, -73.9896],\n",
       "  [40.74155, -73.9896],\n",
       "  [40.71333, -74.011],\n",
       "  [40.71333, -74.011],\n",
       "  [40.746590000000005, -73.97455],\n",
       "  [40.72463, -73.99859000000001],\n",
       "  [40.77373, -73.96203],\n",
       "  [40.75927, -73.98088],\n",
       "  [40.74582, -74.00553000000001]],\n",
       " [[40.74343, -73.99613000000001],\n",
       "  [40.74343, -73.99613000000001],\n",
       "  [40.74343, -73.99613000000001],\n",
       "  [40.74653, -73.98595],\n",
       "  [40.741640000000004, -73.99743000000001],\n",
       "  [40.72547, -73.98396],\n",
       "  [40.72547, -73.98396],\n",
       "  [40.74212, -74.00818000000001],\n",
       "  [40.74212, -74.00818000000001],\n",
       "  [40.74212, -74.00818000000001],\n",
       "  [40.74212, -74.00818000000001],\n",
       "  [40.74852, -73.9887],\n",
       "  [40.75973, -73.99168],\n",
       "  [40.739670000000004, -73.99094000000001],\n",
       "  [40.739670000000004, -73.99094000000001],\n",
       "  [40.74604, -73.99051999999999],\n",
       "  [40.7394, -74.00645],\n",
       "  [40.744640000000004, -74.00273],\n",
       "  [40.744640000000004, -74.00273],\n",
       "  [40.75991, -73.98042],\n",
       "  [40.72488, -73.99228000000001],\n",
       "  [40.72488, -73.99228000000001],\n",
       "  [40.78398, -73.97033],\n",
       "  [40.763020000000004, -73.97814],\n",
       "  [40.763020000000004, -73.97814],\n",
       "  [40.763020000000004, -73.97814],\n",
       "  [40.767509999999994, -73.9593],\n",
       "  [40.767509999999994, -73.9593],\n",
       "  [40.75286, -73.99298],\n",
       "  [40.75286, -73.99298],\n",
       "  [40.73949, -73.98679],\n",
       "  [40.76078, -73.98446],\n",
       "  [40.744640000000004, -74.00273],\n",
       "  [40.744640000000004, -74.00273],\n",
       "  [40.76166, -73.97086],\n",
       "  [40.76166, -73.97086],\n",
       "  [40.72267, -73.99797],\n",
       "  [40.76858, -73.98523],\n",
       "  [40.74017, -73.9863],\n",
       "  [40.74017, -73.9863],\n",
       "  [40.75587, -73.97282],\n",
       "  [40.741640000000004, -74.00699],\n",
       "  [40.74406, -74.00316],\n",
       "  [40.76598, -73.96544],\n",
       "  [40.73384, -74.0012],\n",
       "  [40.74586, -74.00186],\n",
       "  [40.75999, -73.9648],\n",
       "  [40.75999, -73.9648],\n",
       "  [40.75229, -73.98969],\n",
       "  [40.75229, -73.98969],\n",
       "  [40.75229, -73.98969],\n",
       "  [40.75229, -73.98969],\n",
       "  [40.75229, -73.98969],\n",
       "  [40.75229, -73.98969],\n",
       "  [40.7522, -73.99346],\n",
       "  [40.778620000000004, -73.98163000000001],\n",
       "  [40.73579, -73.98536],\n",
       "  [40.73579, -73.98536],\n",
       "  [40.753479999999996, -73.99253],\n",
       "  [40.753479999999996, -73.99253],\n",
       "  [40.747170000000004, -74.00088000000001],\n",
       "  [40.74967, -73.98156999999999],\n",
       "  [40.74967, -73.98156999999999],\n",
       "  [40.74277, -73.9866],\n",
       "  [40.74103, -73.99416],\n",
       "  [40.74103, -73.99416],\n",
       "  [40.75796, -73.98553000000001],\n",
       "  [40.75796, -73.98553000000001],\n",
       "  [40.744009999999996, -73.99943],\n",
       "  [40.7491, -73.99201],\n",
       "  [40.75166, -73.99013000000001],\n",
       "  [40.7429, -73.99280999999999],\n",
       "  [40.7429, -73.99280999999999],\n",
       "  [40.75101, -73.99061],\n",
       "  [40.74843, -73.9962],\n",
       "  [40.74843, -73.9962],\n",
       "  [40.7472, -73.9971],\n",
       "  [40.7452, -73.98278],\n",
       "  [40.7452, -73.98278],\n",
       "  [40.76672, -73.98286999999999],\n",
       "  [40.79851, -73.96911999999999],\n",
       "  [40.79851, -73.96911999999999]],\n",
       " [[40.70949, -74.00166],\n",
       "  [40.70949, -74.00166],\n",
       "  [40.75677, -73.98271],\n",
       "  [40.75677, -73.98271],\n",
       "  [40.76672, -73.98286999999999],\n",
       "  [40.75268, -73.97301],\n",
       "  [40.75268, -73.97301],\n",
       "  [40.7223, -73.99713],\n",
       "  [40.7223, -73.99713],\n",
       "  [40.73531, -73.98983],\n",
       "  [40.74478, -73.97588],\n",
       "  [40.73366, -73.99951999999999],\n",
       "  [40.73366, -73.99951999999999],\n",
       "  [40.73245, -74.00546],\n",
       "  [40.73245, -74.00546],\n",
       "  [40.77544, -73.98206],\n",
       "  [40.77544, -73.98206],\n",
       "  [40.754129999999996, -73.98834000000001],\n",
       "  [40.763020000000004, -73.97814],\n",
       "  [40.763020000000004, -73.97814],\n",
       "  [40.75363, -73.98711],\n",
       "  [40.767920000000004, -73.98572],\n",
       "  [40.74106, -73.99786],\n",
       "  [40.74106, -73.99786],\n",
       "  [40.77105, -73.96368000000001],\n",
       "  [40.74662, -73.99381],\n",
       "  [40.75589, -73.97479],\n",
       "  [40.75589, -73.97479],\n",
       "  [40.74843, -73.98246999999999],\n",
       "  [40.74843, -73.98246999999999],\n",
       "  [40.73923, -73.97819],\n",
       "  [40.73415, -73.99918000000001],\n",
       "  [40.73415, -73.99918000000001],\n",
       "  [40.74653, -73.98595],\n",
       "  [40.74653, -73.98595],\n",
       "  [40.72538, -73.99681],\n",
       "  [40.77234, -73.95268],\n",
       "  [40.75734, -73.98601],\n",
       "  [40.74108, -74.00155],\n",
       "  [40.761140000000005, -73.97952],\n",
       "  [40.761140000000005, -73.97952],\n",
       "  [40.761140000000005, -73.97952],\n",
       "  [40.75034, -73.98318],\n",
       "  [40.75034, -73.98318],\n",
       "  [40.7395, -73.98476],\n",
       "  [40.7395, -73.98476],\n",
       "  [40.7193, -74.0087],\n",
       "  [40.7193, -74.0087],\n",
       "  [40.76042, -73.97583],\n",
       "  [40.753240000000005, -73.96654000000001],\n",
       "  [40.753240000000005, -73.96654000000001],\n",
       "  [40.75029, -73.99485],\n",
       "  [40.75029, -73.99485],\n",
       "  [40.76967, -73.982],\n",
       "  [40.76967, -73.982],\n",
       "  [40.76624, -73.96023000000001],\n",
       "  [40.75407, -73.99585],\n",
       "  [40.737190000000005, -74.00577],\n",
       "  [40.737190000000005, -74.00577],\n",
       "  [40.737190000000005, -74.00577],\n",
       "  [40.737190000000005, -74.00577],\n",
       "  [40.76895, -73.98221],\n",
       "  [40.76895, -73.98221],\n",
       "  [40.75653, -73.99401999999999],\n",
       "  [40.75653, -73.99401999999999]],\n",
       " [[40.744440000000004, -73.97905],\n",
       "  [40.74852, -73.9887],\n",
       "  [40.7479, -73.98916],\n",
       "  [40.7479, -73.98916],\n",
       "  [40.73174, -73.99146],\n",
       "  [40.73174, -73.99146],\n",
       "  [40.753370000000004, -73.97465],\n",
       "  [40.753370000000004, -73.97465],\n",
       "  [40.753370000000004, -73.97465],\n",
       "  [40.753370000000004, -73.97465],\n",
       "  [40.753370000000004, -73.97465],\n",
       "  [40.753370000000004, -73.97465],\n",
       "  [40.753370000000004, -73.97465],\n",
       "  [40.753370000000004, -73.97465],\n",
       "  [40.70909, -74.01405],\n",
       "  [40.70909, -74.01405],\n",
       "  [40.72716, -74.00554],\n",
       "  [40.72716, -74.00554],\n",
       "  [40.72716, -74.00554],\n",
       "  [40.75723, -73.98979],\n",
       "  [40.75723, -73.98979],\n",
       "  [40.74852, -73.9887],\n",
       "  [40.74852, -73.9887],\n",
       "  [40.75112, -73.97126],\n",
       "  [40.75112, -73.97126],\n",
       "  [40.75112, -73.97126],\n",
       "  [40.75112, -73.97126],\n",
       "  [40.7491, -73.99201],\n",
       "  [40.73043, -74.00012],\n",
       "  [40.729859999999995, -74.00395999999999],\n",
       "  [40.729859999999995, -74.00395999999999],\n",
       "  [40.75229, -73.98969],\n",
       "  [40.77301, -73.96032],\n",
       "  [40.77301, -73.96032],\n",
       "  [40.72528, -73.9958],\n",
       "  [40.72528, -73.9958],\n",
       "  [40.75963, -73.99547],\n",
       "  [40.75963, -73.99547],\n",
       "  [40.75963, -73.99547],\n",
       "  [40.74957, -73.97941],\n",
       "  [40.72099, -73.98695],\n",
       "  [40.72099, -73.98695],\n",
       "  [40.73855, -73.99968],\n",
       "  [40.73855, -73.99968],\n",
       "  [40.76343, -73.9927],\n",
       "  [40.7483, -73.98819],\n",
       "  [40.71996, -74.00858000000001],\n",
       "  [40.71996, -74.00858000000001],\n",
       "  [40.744679999999995, -73.9873],\n",
       "  [40.744679999999995, -73.9873],\n",
       "  [40.7796, -73.98185],\n",
       "  [40.7242, -73.99253],\n",
       "  [40.7242, -73.99253],\n",
       "  [40.77465, -73.9541],\n",
       "  [40.77918, -73.95079],\n",
       "  [40.77918, -73.95079],\n",
       "  [40.7555, -73.96807],\n",
       "  [40.7555, -73.96807]],\n",
       " [[40.734790000000004, -73.99072],\n",
       "  [40.7591, -73.99214],\n",
       "  [40.75537, -73.98745],\n",
       "  [40.73147, -74.00313],\n",
       "  [40.763659999999994, -73.97346999999999],\n",
       "  [40.763659999999994, -73.97346999999999],\n",
       "  [40.75076, -73.97440999999999],\n",
       "  [40.741620000000005, -73.99374],\n",
       "  [40.741620000000005, -73.99374],\n",
       "  [40.7522, -73.99346],\n",
       "  [40.7522, -73.99346],\n",
       "  [40.7522, -73.99346],\n",
       "  [40.7522, -73.99346],\n",
       "  [40.7648, -73.98427],\n",
       "  [40.7648, -73.98427],\n",
       "  [40.73656, -74.0011],\n",
       "  [40.73656, -74.0011],\n",
       "  [40.762859999999996, -73.9894],\n",
       "  [40.78575, -73.97848],\n",
       "  [40.78575, -73.97848],\n",
       "  [40.73917, -73.97998],\n",
       "  [40.7545, -73.96569000000001],\n",
       "  [40.7545, -73.96569000000001],\n",
       "  [40.74481, -73.99141999999999],\n",
       "  [40.763490000000004, -73.98894],\n",
       "  [40.763490000000004, -73.98894],\n",
       "  [40.73531, -73.99412],\n",
       "  [40.76229, -73.9861],\n",
       "  [40.74465, -74.00638000000001],\n",
       "  [40.72031, -74.01204],\n",
       "  [40.72031, -74.01204],\n",
       "  [40.74843, -73.9962],\n",
       "  [40.77383, -73.98212],\n",
       "  [40.71561, -73.99427],\n",
       "  [40.71561, -73.99427],\n",
       "  [40.730340000000005, -74.00248],\n",
       "  [40.730340000000005, -74.00248],\n",
       "  [40.756040000000006, -73.98695],\n",
       "  [40.756040000000006, -73.98695],\n",
       "  [40.73171, -74.00095],\n",
       "  [40.74954, -73.97744],\n",
       "  [40.74954, -73.97744],\n",
       "  [40.75713, -73.97388000000001],\n",
       "  [40.75713, -73.97388000000001],\n",
       "  [40.74351, -73.97681999999999],\n",
       "  [40.74351, -73.97681999999999],\n",
       "  [40.73043, -73.98035],\n",
       "  [40.73043, -73.98035],\n",
       "  [40.74419, -73.99186999999999],\n",
       "  [40.74419, -73.99186999999999],\n",
       "  [40.75893, -73.9997],\n",
       "  [40.75893, -73.9997],\n",
       "  [40.75893, -73.9997],\n",
       "  [40.74155, -73.9896],\n",
       "  [40.74155, -73.9896],\n",
       "  [40.77357, -73.95781],\n",
       "  [40.75407, -73.99585],\n",
       "  [40.7522, -73.99346],\n",
       "  [40.7522, -73.99346],\n",
       "  [40.7522, -73.99346],\n",
       "  [40.7522, -73.99346],\n",
       "  [40.74085, -74.00513000000001]],\n",
       " [[40.739740000000005, -74.00249000000001],\n",
       "  [40.739740000000005, -74.00249000000001],\n",
       "  [40.75497, -73.97652],\n",
       "  [40.72293, -74.00218000000001],\n",
       "  [40.72293, -74.00218000000001],\n",
       "  [40.74108, -74.00155],\n",
       "  [40.740990000000004, -74.00545],\n",
       "  [40.720240000000004, -73.98447],\n",
       "  [40.720240000000004, -73.98447],\n",
       "  [40.763740000000006, -73.96206],\n",
       "  [40.763740000000006, -73.96206],\n",
       "  [40.75786, -73.97559],\n",
       "  [40.75786, -73.97559],\n",
       "  [40.7483, -73.98819],\n",
       "  [40.743959999999994, -74.00838],\n",
       "  [40.74406, -74.00316],\n",
       "  [40.74406, -74.00316],\n",
       "  [40.73938, -74.00278],\n",
       "  [40.73938, -74.00278],\n",
       "  [40.73938, -74.00278],\n",
       "  [40.7252, -73.98705],\n",
       "  [40.7252, -73.98705],\n",
       "  [40.7333, -73.99332],\n",
       "  [40.75031, -73.99112],\n",
       "  [40.75031, -73.99112],\n",
       "  [40.75031, -73.99112],\n",
       "  [40.719120000000004, -74.00693000000001],\n",
       "  [40.75802, -73.96623000000001],\n",
       "  [40.72551, -74.00403],\n",
       "  [40.72551, -74.00403],\n",
       "  [40.726409999999994, -73.98618],\n",
       "  [40.726409999999994, -73.98618],\n",
       "  [40.74522, -74.0023],\n",
       "  [40.72161, -73.98899],\n",
       "  [40.72161, -73.98899],\n",
       "  [40.72934, -74.00366],\n",
       "  [40.74971, -73.99155999999999],\n",
       "  [40.74971, -73.99155999999999],\n",
       "  [40.75026, -73.99863],\n",
       "  [40.747690000000006, -74.00417],\n",
       "  [40.747690000000006, -74.00417],\n",
       "  [40.74223, -73.99329],\n",
       "  [40.74223, -73.99329],\n",
       "  [40.74058, -73.98935],\n",
       "  [40.72031, -74.01204],\n",
       "  [40.72031, -74.01204],\n",
       "  [40.76104, -73.97537],\n",
       "  [40.733979999999995, -73.98668],\n",
       "  [40.733979999999995, -73.98668],\n",
       "  [40.73323, -74.00303000000001],\n",
       "  [40.73323, -74.00303000000001]]]"
      ]
     },
     "execution_count": 323,
     "metadata": {},
     "output_type": "execute_result"
    }
   ],
   "source": [
    "lat_long_date"
   ]
  },
  {
   "cell_type": "markdown",
   "metadata": {},
   "source": [
    "## Data Processing"
   ]
  },
  {
   "cell_type": "code",
   "execution_count": 289,
   "metadata": {},
   "outputs": [],
   "source": [
    "nyc_zip = gpd.read_file('https://raw.githubusercontent.com/hvo/datasets/master/nyc_zip.geojson')"
   ]
  },
  {
   "cell_type": "code",
   "execution_count": 290,
   "metadata": {},
   "outputs": [
    {
     "data": {
      "text/html": [
       "<div>\n",
       "<style scoped>\n",
       "    .dataframe tbody tr th:only-of-type {\n",
       "        vertical-align: middle;\n",
       "    }\n",
       "\n",
       "    .dataframe tbody tr th {\n",
       "        vertical-align: top;\n",
       "    }\n",
       "\n",
       "    .dataframe thead th {\n",
       "        text-align: right;\n",
       "    }\n",
       "</style>\n",
       "<table border=\"1\" class=\"dataframe\">\n",
       "  <thead>\n",
       "    <tr style=\"text-align: right;\">\n",
       "      <th></th>\n",
       "      <th>zipcode</th>\n",
       "      <th>geometry</th>\n",
       "    </tr>\n",
       "  </thead>\n",
       "  <tbody>\n",
       "    <tr>\n",
       "      <th>0</th>\n",
       "      <td>10471</td>\n",
       "      <td>(POLYGON ((-73.881919 40.906666, -73.878423 40...</td>\n",
       "    </tr>\n",
       "    <tr>\n",
       "      <th>1</th>\n",
       "      <td>10463</td>\n",
       "      <td>(POLYGON ((-73.920646 40.887237, -73.920376 40...</td>\n",
       "    </tr>\n",
       "    <tr>\n",
       "      <th>2</th>\n",
       "      <td>10475</td>\n",
       "      <td>(POLYGON ((-73.827224 40.89093, -73.825115 40....</td>\n",
       "    </tr>\n",
       "    <tr>\n",
       "      <th>3</th>\n",
       "      <td>10464</td>\n",
       "      <td>(POLYGON ((-73.815387 40.889394, -73.815265999...</td>\n",
       "    </tr>\n",
       "    <tr>\n",
       "      <th>4</th>\n",
       "      <td>11222</td>\n",
       "      <td>(POLYGON ((-73.954223 40.739107, -73.954183 40...</td>\n",
       "    </tr>\n",
       "  </tbody>\n",
       "</table>\n",
       "</div>"
      ],
      "text/plain": [
       "  zipcode                                           geometry\n",
       "0   10471  (POLYGON ((-73.881919 40.906666, -73.878423 40...\n",
       "1   10463  (POLYGON ((-73.920646 40.887237, -73.920376 40...\n",
       "2   10475  (POLYGON ((-73.827224 40.89093, -73.825115 40....\n",
       "3   10464  (POLYGON ((-73.815387 40.889394, -73.815265999...\n",
       "4   11222  (POLYGON ((-73.954223 40.739107, -73.954183 40..."
      ]
     },
     "execution_count": 290,
     "metadata": {},
     "output_type": "execute_result"
    }
   ],
   "source": [
    "nyc_zip.head()"
   ]
  },
  {
   "cell_type": "code",
   "execution_count": 291,
   "metadata": {},
   "outputs": [],
   "source": [
    "v_p_with_v = pd.read_csv('vehicle_paths_pnas.csv')"
   ]
  },
  {
   "cell_type": "code",
   "execution_count": 292,
   "metadata": {},
   "outputs": [],
   "source": [
    "violators = v_p_with_v.loc[v_p_with_v['Num_Passengers']>4]"
   ]
  },
  {
   "cell_type": "code",
   "execution_count": 293,
   "metadata": {},
   "outputs": [],
   "source": [
    "violators_movements  = v_e.merge(violators,\n",
    "                              left_on = ['Vehicle_ID','Timestamp'],\n",
    "                              right_on = ['Vehicle_ID','Timestamp'],\n",
    "                              how = 'inner')"
   ]
  },
  {
   "cell_type": "code",
   "execution_count": 294,
   "metadata": {},
   "outputs": [],
   "source": [
    "violators_movements['lonlat']=list(zip(violators_movements.Longitude,violators_movements.Latitude))\n",
    "violators_movements['geometry']= violators_movements[['lonlat']].applymap(lambda x:shapely.geometry.Point(x))"
   ]
  },
  {
   "cell_type": "code",
   "execution_count": 295,
   "metadata": {},
   "outputs": [],
   "source": [
    "violators_movements_geo = gpd.GeoDataFrame(violators_movements)"
   ]
  },
  {
   "cell_type": "code",
   "execution_count": 296,
   "metadata": {},
   "outputs": [],
   "source": [
    "violators_movements_zip =  gpd.sjoin(nyc_zip, violators_movements_geo, how=\"inner\", op='contains')"
   ]
  },
  {
   "cell_type": "code",
   "execution_count": 297,
   "metadata": {},
   "outputs": [],
   "source": [
    "violation_data = violators_movements_zip[['zipcode','Timestamp']].reset_index().reset_index()"
   ]
  },
  {
   "cell_type": "code",
   "execution_count": 298,
   "metadata": {},
   "outputs": [],
   "source": [
    "violation_data = violation_data[['level_0','zipcode','Timestamp']]"
   ]
  },
  {
   "cell_type": "code",
   "execution_count": 299,
   "metadata": {},
   "outputs": [],
   "source": [
    "violation_over_time = violation_data.groupby(['zipcode','Timestamp']).count().reset_index()"
   ]
  },
  {
   "cell_type": "code",
   "execution_count": 300,
   "metadata": {},
   "outputs": [],
   "source": [
    "violation_over_time['date_time'] = violation_over_time.Timestamp.apply(lambda x: (datetime.datetime.fromtimestamp(x)))"
   ]
  },
  {
   "cell_type": "code",
   "execution_count": 301,
   "metadata": {},
   "outputs": [],
   "source": [
    "violation_over_time['hour'] = violation_over_time.date_time.apply(lambda x: x.hour)"
   ]
  },
  {
   "cell_type": "code",
   "execution_count": 302,
   "metadata": {},
   "outputs": [],
   "source": [
    "violation_over_time['hour'] = violation_over_time.hour.replace(0,24)"
   ]
  },
  {
   "cell_type": "code",
   "execution_count": 303,
   "metadata": {},
   "outputs": [],
   "source": [
    "violation_over_time.columns = [['zipcode','Timestamp','count','date_time','hour']]"
   ]
  },
  {
   "cell_type": "code",
   "execution_count": 304,
   "metadata": {},
   "outputs": [],
   "source": [
    "violation_data_find = violation_over_time[['zipcode','hour','count']]"
   ]
  },
  {
   "cell_type": "code",
   "execution_count": 305,
   "metadata": {},
   "outputs": [],
   "source": [
    "violation_time = violation_data_find[['hour','count']]"
   ]
  },
  {
   "cell_type": "code",
   "execution_count": 306,
   "metadata": {},
   "outputs": [],
   "source": [
    "violation_time.columns = ['HOUR','COUNT']"
   ]
  },
  {
   "cell_type": "code",
   "execution_count": 307,
   "metadata": {},
   "outputs": [],
   "source": [
    "violation_GB = violation_time.groupby(['HOUR']).sum().reset_index()"
   ]
  },
  {
   "cell_type": "code",
   "execution_count": 308,
   "metadata": {},
   "outputs": [
    {
     "data": {
      "application/vnd.plotly.v1+json": {
       "config": {
        "plotlyServerURL": "https://plot.ly"
       },
       "data": [
        {
         "alignmentgroup": "True",
         "hoverlabel": {
          "namelength": 0
         },
         "hovertemplate": "HOUR=%{x}<br>COUNT=%{y}",
         "legendgroup": "",
         "marker": {
          "color": "#636efa"
         },
         "name": "",
         "offsetgroup": "",
         "orientation": "v",
         "showlegend": false,
         "textposition": "auto",
         "type": "bar",
         "x": [
          1,
          2,
          3,
          4,
          5,
          6,
          7,
          8,
          9,
          10,
          11,
          12,
          13,
          14,
          15,
          16,
          17,
          18,
          19,
          20,
          21,
          22,
          23,
          24
         ],
         "xaxis": "x",
         "y": [
          185,
          614,
          339,
          148,
          104,
          129,
          651,
          1497,
          1649,
          1790,
          1874,
          1858,
          2050,
          2042,
          1881,
          1917,
          2033,
          2041,
          1750,
          1922,
          1765,
          1705,
          1613,
          1547
         ],
         "yaxis": "y"
        }
       ],
       "layout": {
        "barmode": "relative",
        "height": 600,
        "legend": {
         "tracegroupgap": 0
        },
        "margin": {
         "t": 60
        },
        "template": {
         "data": {
          "bar": [
           {
            "error_x": {
             "color": "#2a3f5f"
            },
            "error_y": {
             "color": "#2a3f5f"
            },
            "marker": {
             "line": {
              "color": "#E5ECF6",
              "width": 0.5
             }
            },
            "type": "bar"
           }
          ],
          "barpolar": [
           {
            "marker": {
             "line": {
              "color": "#E5ECF6",
              "width": 0.5
             }
            },
            "type": "barpolar"
           }
          ],
          "carpet": [
           {
            "aaxis": {
             "endlinecolor": "#2a3f5f",
             "gridcolor": "white",
             "linecolor": "white",
             "minorgridcolor": "white",
             "startlinecolor": "#2a3f5f"
            },
            "baxis": {
             "endlinecolor": "#2a3f5f",
             "gridcolor": "white",
             "linecolor": "white",
             "minorgridcolor": "white",
             "startlinecolor": "#2a3f5f"
            },
            "type": "carpet"
           }
          ],
          "choropleth": [
           {
            "colorbar": {
             "outlinewidth": 0,
             "ticks": ""
            },
            "type": "choropleth"
           }
          ],
          "contour": [
           {
            "colorbar": {
             "outlinewidth": 0,
             "ticks": ""
            },
            "colorscale": [
             [
              0,
              "#0d0887"
             ],
             [
              0.1111111111111111,
              "#46039f"
             ],
             [
              0.2222222222222222,
              "#7201a8"
             ],
             [
              0.3333333333333333,
              "#9c179e"
             ],
             [
              0.4444444444444444,
              "#bd3786"
             ],
             [
              0.5555555555555556,
              "#d8576b"
             ],
             [
              0.6666666666666666,
              "#ed7953"
             ],
             [
              0.7777777777777778,
              "#fb9f3a"
             ],
             [
              0.8888888888888888,
              "#fdca26"
             ],
             [
              1,
              "#f0f921"
             ]
            ],
            "type": "contour"
           }
          ],
          "contourcarpet": [
           {
            "colorbar": {
             "outlinewidth": 0,
             "ticks": ""
            },
            "type": "contourcarpet"
           }
          ],
          "heatmap": [
           {
            "colorbar": {
             "outlinewidth": 0,
             "ticks": ""
            },
            "colorscale": [
             [
              0,
              "#0d0887"
             ],
             [
              0.1111111111111111,
              "#46039f"
             ],
             [
              0.2222222222222222,
              "#7201a8"
             ],
             [
              0.3333333333333333,
              "#9c179e"
             ],
             [
              0.4444444444444444,
              "#bd3786"
             ],
             [
              0.5555555555555556,
              "#d8576b"
             ],
             [
              0.6666666666666666,
              "#ed7953"
             ],
             [
              0.7777777777777778,
              "#fb9f3a"
             ],
             [
              0.8888888888888888,
              "#fdca26"
             ],
             [
              1,
              "#f0f921"
             ]
            ],
            "type": "heatmap"
           }
          ],
          "heatmapgl": [
           {
            "colorbar": {
             "outlinewidth": 0,
             "ticks": ""
            },
            "colorscale": [
             [
              0,
              "#0d0887"
             ],
             [
              0.1111111111111111,
              "#46039f"
             ],
             [
              0.2222222222222222,
              "#7201a8"
             ],
             [
              0.3333333333333333,
              "#9c179e"
             ],
             [
              0.4444444444444444,
              "#bd3786"
             ],
             [
              0.5555555555555556,
              "#d8576b"
             ],
             [
              0.6666666666666666,
              "#ed7953"
             ],
             [
              0.7777777777777778,
              "#fb9f3a"
             ],
             [
              0.8888888888888888,
              "#fdca26"
             ],
             [
              1,
              "#f0f921"
             ]
            ],
            "type": "heatmapgl"
           }
          ],
          "histogram": [
           {
            "marker": {
             "colorbar": {
              "outlinewidth": 0,
              "ticks": ""
             }
            },
            "type": "histogram"
           }
          ],
          "histogram2d": [
           {
            "colorbar": {
             "outlinewidth": 0,
             "ticks": ""
            },
            "colorscale": [
             [
              0,
              "#0d0887"
             ],
             [
              0.1111111111111111,
              "#46039f"
             ],
             [
              0.2222222222222222,
              "#7201a8"
             ],
             [
              0.3333333333333333,
              "#9c179e"
             ],
             [
              0.4444444444444444,
              "#bd3786"
             ],
             [
              0.5555555555555556,
              "#d8576b"
             ],
             [
              0.6666666666666666,
              "#ed7953"
             ],
             [
              0.7777777777777778,
              "#fb9f3a"
             ],
             [
              0.8888888888888888,
              "#fdca26"
             ],
             [
              1,
              "#f0f921"
             ]
            ],
            "type": "histogram2d"
           }
          ],
          "histogram2dcontour": [
           {
            "colorbar": {
             "outlinewidth": 0,
             "ticks": ""
            },
            "colorscale": [
             [
              0,
              "#0d0887"
             ],
             [
              0.1111111111111111,
              "#46039f"
             ],
             [
              0.2222222222222222,
              "#7201a8"
             ],
             [
              0.3333333333333333,
              "#9c179e"
             ],
             [
              0.4444444444444444,
              "#bd3786"
             ],
             [
              0.5555555555555556,
              "#d8576b"
             ],
             [
              0.6666666666666666,
              "#ed7953"
             ],
             [
              0.7777777777777778,
              "#fb9f3a"
             ],
             [
              0.8888888888888888,
              "#fdca26"
             ],
             [
              1,
              "#f0f921"
             ]
            ],
            "type": "histogram2dcontour"
           }
          ],
          "mesh3d": [
           {
            "colorbar": {
             "outlinewidth": 0,
             "ticks": ""
            },
            "type": "mesh3d"
           }
          ],
          "parcoords": [
           {
            "line": {
             "colorbar": {
              "outlinewidth": 0,
              "ticks": ""
             }
            },
            "type": "parcoords"
           }
          ],
          "scatter": [
           {
            "marker": {
             "colorbar": {
              "outlinewidth": 0,
              "ticks": ""
             }
            },
            "type": "scatter"
           }
          ],
          "scatter3d": [
           {
            "line": {
             "colorbar": {
              "outlinewidth": 0,
              "ticks": ""
             }
            },
            "marker": {
             "colorbar": {
              "outlinewidth": 0,
              "ticks": ""
             }
            },
            "type": "scatter3d"
           }
          ],
          "scattercarpet": [
           {
            "marker": {
             "colorbar": {
              "outlinewidth": 0,
              "ticks": ""
             }
            },
            "type": "scattercarpet"
           }
          ],
          "scattergeo": [
           {
            "marker": {
             "colorbar": {
              "outlinewidth": 0,
              "ticks": ""
             }
            },
            "type": "scattergeo"
           }
          ],
          "scattergl": [
           {
            "marker": {
             "colorbar": {
              "outlinewidth": 0,
              "ticks": ""
             }
            },
            "type": "scattergl"
           }
          ],
          "scattermapbox": [
           {
            "marker": {
             "colorbar": {
              "outlinewidth": 0,
              "ticks": ""
             }
            },
            "type": "scattermapbox"
           }
          ],
          "scatterpolar": [
           {
            "marker": {
             "colorbar": {
              "outlinewidth": 0,
              "ticks": ""
             }
            },
            "type": "scatterpolar"
           }
          ],
          "scatterpolargl": [
           {
            "marker": {
             "colorbar": {
              "outlinewidth": 0,
              "ticks": ""
             }
            },
            "type": "scatterpolargl"
           }
          ],
          "scatterternary": [
           {
            "marker": {
             "colorbar": {
              "outlinewidth": 0,
              "ticks": ""
             }
            },
            "type": "scatterternary"
           }
          ],
          "surface": [
           {
            "colorbar": {
             "outlinewidth": 0,
             "ticks": ""
            },
            "colorscale": [
             [
              0,
              "#0d0887"
             ],
             [
              0.1111111111111111,
              "#46039f"
             ],
             [
              0.2222222222222222,
              "#7201a8"
             ],
             [
              0.3333333333333333,
              "#9c179e"
             ],
             [
              0.4444444444444444,
              "#bd3786"
             ],
             [
              0.5555555555555556,
              "#d8576b"
             ],
             [
              0.6666666666666666,
              "#ed7953"
             ],
             [
              0.7777777777777778,
              "#fb9f3a"
             ],
             [
              0.8888888888888888,
              "#fdca26"
             ],
             [
              1,
              "#f0f921"
             ]
            ],
            "type": "surface"
           }
          ],
          "table": [
           {
            "cells": {
             "fill": {
              "color": "#EBF0F8"
             },
             "line": {
              "color": "white"
             }
            },
            "header": {
             "fill": {
              "color": "#C8D4E3"
             },
             "line": {
              "color": "white"
             }
            },
            "type": "table"
           }
          ]
         },
         "layout": {
          "annotationdefaults": {
           "arrowcolor": "#2a3f5f",
           "arrowhead": 0,
           "arrowwidth": 1
          },
          "colorscale": {
           "diverging": [
            [
             0,
             "#8e0152"
            ],
            [
             0.1,
             "#c51b7d"
            ],
            [
             0.2,
             "#de77ae"
            ],
            [
             0.3,
             "#f1b6da"
            ],
            [
             0.4,
             "#fde0ef"
            ],
            [
             0.5,
             "#f7f7f7"
            ],
            [
             0.6,
             "#e6f5d0"
            ],
            [
             0.7,
             "#b8e186"
            ],
            [
             0.8,
             "#7fbc41"
            ],
            [
             0.9,
             "#4d9221"
            ],
            [
             1,
             "#276419"
            ]
           ],
           "sequential": [
            [
             0,
             "#0d0887"
            ],
            [
             0.1111111111111111,
             "#46039f"
            ],
            [
             0.2222222222222222,
             "#7201a8"
            ],
            [
             0.3333333333333333,
             "#9c179e"
            ],
            [
             0.4444444444444444,
             "#bd3786"
            ],
            [
             0.5555555555555556,
             "#d8576b"
            ],
            [
             0.6666666666666666,
             "#ed7953"
            ],
            [
             0.7777777777777778,
             "#fb9f3a"
            ],
            [
             0.8888888888888888,
             "#fdca26"
            ],
            [
             1,
             "#f0f921"
            ]
           ],
           "sequentialminus": [
            [
             0,
             "#0d0887"
            ],
            [
             0.1111111111111111,
             "#46039f"
            ],
            [
             0.2222222222222222,
             "#7201a8"
            ],
            [
             0.3333333333333333,
             "#9c179e"
            ],
            [
             0.4444444444444444,
             "#bd3786"
            ],
            [
             0.5555555555555556,
             "#d8576b"
            ],
            [
             0.6666666666666666,
             "#ed7953"
            ],
            [
             0.7777777777777778,
             "#fb9f3a"
            ],
            [
             0.8888888888888888,
             "#fdca26"
            ],
            [
             1,
             "#f0f921"
            ]
           ]
          },
          "colorway": [
           "#636efa",
           "#EF553B",
           "#00cc96",
           "#ab63fa",
           "#FFA15A",
           "#19d3f3",
           "#FF6692",
           "#B6E880",
           "#FF97FF",
           "#FECB52"
          ],
          "font": {
           "color": "#2a3f5f"
          },
          "geo": {
           "bgcolor": "white",
           "lakecolor": "white",
           "landcolor": "#E5ECF6",
           "showlakes": true,
           "showland": true,
           "subunitcolor": "white"
          },
          "hoverlabel": {
           "align": "left"
          },
          "hovermode": "closest",
          "mapbox": {
           "style": "light"
          },
          "paper_bgcolor": "white",
          "plot_bgcolor": "#E5ECF6",
          "polar": {
           "angularaxis": {
            "gridcolor": "white",
            "linecolor": "white",
            "ticks": ""
           },
           "bgcolor": "#E5ECF6",
           "radialaxis": {
            "gridcolor": "white",
            "linecolor": "white",
            "ticks": ""
           }
          },
          "scene": {
           "xaxis": {
            "backgroundcolor": "#E5ECF6",
            "gridcolor": "white",
            "gridwidth": 2,
            "linecolor": "white",
            "showbackground": true,
            "ticks": "",
            "zerolinecolor": "white"
           },
           "yaxis": {
            "backgroundcolor": "#E5ECF6",
            "gridcolor": "white",
            "gridwidth": 2,
            "linecolor": "white",
            "showbackground": true,
            "ticks": "",
            "zerolinecolor": "white"
           },
           "zaxis": {
            "backgroundcolor": "#E5ECF6",
            "gridcolor": "white",
            "gridwidth": 2,
            "linecolor": "white",
            "showbackground": true,
            "ticks": "",
            "zerolinecolor": "white"
           }
          },
          "shapedefaults": {
           "line": {
            "color": "#2a3f5f"
           }
          },
          "ternary": {
           "aaxis": {
            "gridcolor": "white",
            "linecolor": "white",
            "ticks": ""
           },
           "baxis": {
            "gridcolor": "white",
            "linecolor": "white",
            "ticks": ""
           },
           "bgcolor": "#E5ECF6",
           "caxis": {
            "gridcolor": "white",
            "linecolor": "white",
            "ticks": ""
           }
          },
          "title": {
           "x": 0.05
          },
          "xaxis": {
           "automargin": true,
           "gridcolor": "white",
           "linecolor": "white",
           "ticks": "",
           "zerolinecolor": "white",
           "zerolinewidth": 2
          },
          "yaxis": {
           "automargin": true,
           "gridcolor": "white",
           "linecolor": "white",
           "ticks": "",
           "zerolinecolor": "white",
           "zerolinewidth": 2
          }
         }
        },
        "xaxis": {
         "anchor": "y",
         "domain": [
          0,
          0.98
         ],
         "title": {
          "text": "HOUR"
         }
        },
        "yaxis": {
         "anchor": "x",
         "domain": [
          0,
          1
         ],
         "title": {
          "text": "COUNT"
         }
        }
       }
      },
      "text/html": [
       "<div>\n",
       "        \n",
       "        \n",
       "            <div id=\"aa480633-fe99-40cb-8472-44ef4e2c6322\" class=\"plotly-graph-div\" style=\"height:600px; width:100%;\"></div>\n",
       "            <script type=\"text/javascript\">\n",
       "                require([\"plotly\"], function(Plotly) {\n",
       "                    window.PLOTLYENV=window.PLOTLYENV || {};\n",
       "                    \n",
       "                if (document.getElementById(\"aa480633-fe99-40cb-8472-44ef4e2c6322\")) {\n",
       "                    Plotly.newPlot(\n",
       "                        'aa480633-fe99-40cb-8472-44ef4e2c6322',\n",
       "                        [{\"alignmentgroup\": \"True\", \"hoverlabel\": {\"namelength\": 0}, \"hovertemplate\": \"HOUR=%{x}<br>COUNT=%{y}\", \"legendgroup\": \"\", \"marker\": {\"color\": \"#636efa\"}, \"name\": \"\", \"offsetgroup\": \"\", \"orientation\": \"v\", \"showlegend\": false, \"textposition\": \"auto\", \"type\": \"bar\", \"x\": [1, 2, 3, 4, 5, 6, 7, 8, 9, 10, 11, 12, 13, 14, 15, 16, 17, 18, 19, 20, 21, 22, 23, 24], \"xaxis\": \"x\", \"y\": [185, 614, 339, 148, 104, 129, 651, 1497, 1649, 1790, 1874, 1858, 2050, 2042, 1881, 1917, 2033, 2041, 1750, 1922, 1765, 1705, 1613, 1547], \"yaxis\": \"y\"}],\n",
       "                        {\"barmode\": \"relative\", \"height\": 600, \"legend\": {\"tracegroupgap\": 0}, \"margin\": {\"t\": 60}, \"template\": {\"data\": {\"bar\": [{\"error_x\": {\"color\": \"#2a3f5f\"}, \"error_y\": {\"color\": \"#2a3f5f\"}, \"marker\": {\"line\": {\"color\": \"#E5ECF6\", \"width\": 0.5}}, \"type\": \"bar\"}], \"barpolar\": [{\"marker\": {\"line\": {\"color\": \"#E5ECF6\", \"width\": 0.5}}, \"type\": \"barpolar\"}], \"carpet\": [{\"aaxis\": {\"endlinecolor\": \"#2a3f5f\", \"gridcolor\": \"white\", \"linecolor\": \"white\", \"minorgridcolor\": \"white\", \"startlinecolor\": \"#2a3f5f\"}, \"baxis\": {\"endlinecolor\": \"#2a3f5f\", \"gridcolor\": \"white\", \"linecolor\": \"white\", \"minorgridcolor\": \"white\", \"startlinecolor\": \"#2a3f5f\"}, \"type\": \"carpet\"}], \"choropleth\": [{\"colorbar\": {\"outlinewidth\": 0, \"ticks\": \"\"}, \"type\": \"choropleth\"}], \"contour\": [{\"colorbar\": {\"outlinewidth\": 0, \"ticks\": \"\"}, \"colorscale\": [[0.0, \"#0d0887\"], [0.1111111111111111, \"#46039f\"], [0.2222222222222222, \"#7201a8\"], [0.3333333333333333, \"#9c179e\"], [0.4444444444444444, \"#bd3786\"], [0.5555555555555556, \"#d8576b\"], [0.6666666666666666, \"#ed7953\"], [0.7777777777777778, \"#fb9f3a\"], [0.8888888888888888, \"#fdca26\"], [1.0, \"#f0f921\"]], \"type\": \"contour\"}], \"contourcarpet\": [{\"colorbar\": {\"outlinewidth\": 0, \"ticks\": \"\"}, \"type\": \"contourcarpet\"}], \"heatmap\": [{\"colorbar\": {\"outlinewidth\": 0, \"ticks\": \"\"}, \"colorscale\": [[0.0, \"#0d0887\"], [0.1111111111111111, \"#46039f\"], [0.2222222222222222, \"#7201a8\"], [0.3333333333333333, \"#9c179e\"], [0.4444444444444444, \"#bd3786\"], [0.5555555555555556, \"#d8576b\"], [0.6666666666666666, \"#ed7953\"], [0.7777777777777778, \"#fb9f3a\"], [0.8888888888888888, \"#fdca26\"], [1.0, \"#f0f921\"]], \"type\": \"heatmap\"}], \"heatmapgl\": [{\"colorbar\": {\"outlinewidth\": 0, \"ticks\": \"\"}, \"colorscale\": [[0.0, \"#0d0887\"], [0.1111111111111111, \"#46039f\"], [0.2222222222222222, \"#7201a8\"], [0.3333333333333333, \"#9c179e\"], [0.4444444444444444, \"#bd3786\"], [0.5555555555555556, \"#d8576b\"], [0.6666666666666666, \"#ed7953\"], [0.7777777777777778, \"#fb9f3a\"], [0.8888888888888888, \"#fdca26\"], [1.0, \"#f0f921\"]], \"type\": \"heatmapgl\"}], \"histogram\": [{\"marker\": {\"colorbar\": {\"outlinewidth\": 0, \"ticks\": \"\"}}, \"type\": \"histogram\"}], \"histogram2d\": [{\"colorbar\": {\"outlinewidth\": 0, \"ticks\": \"\"}, \"colorscale\": [[0.0, \"#0d0887\"], [0.1111111111111111, \"#46039f\"], [0.2222222222222222, \"#7201a8\"], [0.3333333333333333, \"#9c179e\"], [0.4444444444444444, \"#bd3786\"], [0.5555555555555556, \"#d8576b\"], [0.6666666666666666, \"#ed7953\"], [0.7777777777777778, \"#fb9f3a\"], [0.8888888888888888, \"#fdca26\"], [1.0, \"#f0f921\"]], \"type\": \"histogram2d\"}], \"histogram2dcontour\": [{\"colorbar\": {\"outlinewidth\": 0, \"ticks\": \"\"}, \"colorscale\": [[0.0, \"#0d0887\"], [0.1111111111111111, \"#46039f\"], [0.2222222222222222, \"#7201a8\"], [0.3333333333333333, \"#9c179e\"], [0.4444444444444444, \"#bd3786\"], [0.5555555555555556, \"#d8576b\"], [0.6666666666666666, \"#ed7953\"], [0.7777777777777778, \"#fb9f3a\"], [0.8888888888888888, \"#fdca26\"], [1.0, \"#f0f921\"]], \"type\": \"histogram2dcontour\"}], \"mesh3d\": [{\"colorbar\": {\"outlinewidth\": 0, \"ticks\": \"\"}, \"type\": \"mesh3d\"}], \"parcoords\": [{\"line\": {\"colorbar\": {\"outlinewidth\": 0, \"ticks\": \"\"}}, \"type\": \"parcoords\"}], \"scatter\": [{\"marker\": {\"colorbar\": {\"outlinewidth\": 0, \"ticks\": \"\"}}, \"type\": \"scatter\"}], \"scatter3d\": [{\"line\": {\"colorbar\": {\"outlinewidth\": 0, \"ticks\": \"\"}}, \"marker\": {\"colorbar\": {\"outlinewidth\": 0, \"ticks\": \"\"}}, \"type\": \"scatter3d\"}], \"scattercarpet\": [{\"marker\": {\"colorbar\": {\"outlinewidth\": 0, \"ticks\": \"\"}}, \"type\": \"scattercarpet\"}], \"scattergeo\": [{\"marker\": {\"colorbar\": {\"outlinewidth\": 0, \"ticks\": \"\"}}, \"type\": \"scattergeo\"}], \"scattergl\": [{\"marker\": {\"colorbar\": {\"outlinewidth\": 0, \"ticks\": \"\"}}, \"type\": \"scattergl\"}], \"scattermapbox\": [{\"marker\": {\"colorbar\": {\"outlinewidth\": 0, \"ticks\": \"\"}}, \"type\": \"scattermapbox\"}], \"scatterpolar\": [{\"marker\": {\"colorbar\": {\"outlinewidth\": 0, \"ticks\": \"\"}}, \"type\": \"scatterpolar\"}], \"scatterpolargl\": [{\"marker\": {\"colorbar\": {\"outlinewidth\": 0, \"ticks\": \"\"}}, \"type\": \"scatterpolargl\"}], \"scatterternary\": [{\"marker\": {\"colorbar\": {\"outlinewidth\": 0, \"ticks\": \"\"}}, \"type\": \"scatterternary\"}], \"surface\": [{\"colorbar\": {\"outlinewidth\": 0, \"ticks\": \"\"}, \"colorscale\": [[0.0, \"#0d0887\"], [0.1111111111111111, \"#46039f\"], [0.2222222222222222, \"#7201a8\"], [0.3333333333333333, \"#9c179e\"], [0.4444444444444444, \"#bd3786\"], [0.5555555555555556, \"#d8576b\"], [0.6666666666666666, \"#ed7953\"], [0.7777777777777778, \"#fb9f3a\"], [0.8888888888888888, \"#fdca26\"], [1.0, \"#f0f921\"]], \"type\": \"surface\"}], \"table\": [{\"cells\": {\"fill\": {\"color\": \"#EBF0F8\"}, \"line\": {\"color\": \"white\"}}, \"header\": {\"fill\": {\"color\": \"#C8D4E3\"}, \"line\": {\"color\": \"white\"}}, \"type\": \"table\"}]}, \"layout\": {\"annotationdefaults\": {\"arrowcolor\": \"#2a3f5f\", \"arrowhead\": 0, \"arrowwidth\": 1}, \"colorscale\": {\"diverging\": [[0, \"#8e0152\"], [0.1, \"#c51b7d\"], [0.2, \"#de77ae\"], [0.3, \"#f1b6da\"], [0.4, \"#fde0ef\"], [0.5, \"#f7f7f7\"], [0.6, \"#e6f5d0\"], [0.7, \"#b8e186\"], [0.8, \"#7fbc41\"], [0.9, \"#4d9221\"], [1, \"#276419\"]], \"sequential\": [[0.0, \"#0d0887\"], [0.1111111111111111, \"#46039f\"], [0.2222222222222222, \"#7201a8\"], [0.3333333333333333, \"#9c179e\"], [0.4444444444444444, \"#bd3786\"], [0.5555555555555556, \"#d8576b\"], [0.6666666666666666, \"#ed7953\"], [0.7777777777777778, \"#fb9f3a\"], [0.8888888888888888, \"#fdca26\"], [1.0, \"#f0f921\"]], \"sequentialminus\": [[0.0, \"#0d0887\"], [0.1111111111111111, \"#46039f\"], [0.2222222222222222, \"#7201a8\"], [0.3333333333333333, \"#9c179e\"], [0.4444444444444444, \"#bd3786\"], [0.5555555555555556, \"#d8576b\"], [0.6666666666666666, \"#ed7953\"], [0.7777777777777778, \"#fb9f3a\"], [0.8888888888888888, \"#fdca26\"], [1.0, \"#f0f921\"]]}, \"colorway\": [\"#636efa\", \"#EF553B\", \"#00cc96\", \"#ab63fa\", \"#FFA15A\", \"#19d3f3\", \"#FF6692\", \"#B6E880\", \"#FF97FF\", \"#FECB52\"], \"font\": {\"color\": \"#2a3f5f\"}, \"geo\": {\"bgcolor\": \"white\", \"lakecolor\": \"white\", \"landcolor\": \"#E5ECF6\", \"showlakes\": true, \"showland\": true, \"subunitcolor\": \"white\"}, \"hoverlabel\": {\"align\": \"left\"}, \"hovermode\": \"closest\", \"mapbox\": {\"style\": \"light\"}, \"paper_bgcolor\": \"white\", \"plot_bgcolor\": \"#E5ECF6\", \"polar\": {\"angularaxis\": {\"gridcolor\": \"white\", \"linecolor\": \"white\", \"ticks\": \"\"}, \"bgcolor\": \"#E5ECF6\", \"radialaxis\": {\"gridcolor\": \"white\", \"linecolor\": \"white\", \"ticks\": \"\"}}, \"scene\": {\"xaxis\": {\"backgroundcolor\": \"#E5ECF6\", \"gridcolor\": \"white\", \"gridwidth\": 2, \"linecolor\": \"white\", \"showbackground\": true, \"ticks\": \"\", \"zerolinecolor\": \"white\"}, \"yaxis\": {\"backgroundcolor\": \"#E5ECF6\", \"gridcolor\": \"white\", \"gridwidth\": 2, \"linecolor\": \"white\", \"showbackground\": true, \"ticks\": \"\", \"zerolinecolor\": \"white\"}, \"zaxis\": {\"backgroundcolor\": \"#E5ECF6\", \"gridcolor\": \"white\", \"gridwidth\": 2, \"linecolor\": \"white\", \"showbackground\": true, \"ticks\": \"\", \"zerolinecolor\": \"white\"}}, \"shapedefaults\": {\"line\": {\"color\": \"#2a3f5f\"}}, \"ternary\": {\"aaxis\": {\"gridcolor\": \"white\", \"linecolor\": \"white\", \"ticks\": \"\"}, \"baxis\": {\"gridcolor\": \"white\", \"linecolor\": \"white\", \"ticks\": \"\"}, \"bgcolor\": \"#E5ECF6\", \"caxis\": {\"gridcolor\": \"white\", \"linecolor\": \"white\", \"ticks\": \"\"}}, \"title\": {\"x\": 0.05}, \"xaxis\": {\"automargin\": true, \"gridcolor\": \"white\", \"linecolor\": \"white\", \"ticks\": \"\", \"zerolinecolor\": \"white\", \"zerolinewidth\": 2}, \"yaxis\": {\"automargin\": true, \"gridcolor\": \"white\", \"linecolor\": \"white\", \"ticks\": \"\", \"zerolinecolor\": \"white\", \"zerolinewidth\": 2}}}, \"xaxis\": {\"anchor\": \"y\", \"domain\": [0.0, 0.98], \"title\": {\"text\": \"HOUR\"}}, \"yaxis\": {\"anchor\": \"x\", \"domain\": [0.0, 1.0], \"title\": {\"text\": \"COUNT\"}}},\n",
       "                        {\"responsive\": true}\n",
       "                    ).then(function(){\n",
       "                            \n",
       "var gd = document.getElementById('aa480633-fe99-40cb-8472-44ef4e2c6322');\n",
       "var x = new MutationObserver(function (mutations, observer) {{\n",
       "        var display = window.getComputedStyle(gd).display;\n",
       "        if (!display || display === 'none') {{\n",
       "            console.log([gd, 'removed!']);\n",
       "            Plotly.purge(gd);\n",
       "            observer.disconnect();\n",
       "        }}\n",
       "}});\n",
       "\n",
       "// Listen for the removal of the full notebook cells\n",
       "var notebookContainer = gd.closest('#notebook-container');\n",
       "if (notebookContainer) {{\n",
       "    x.observe(notebookContainer, {childList: true});\n",
       "}}\n",
       "\n",
       "// Listen for the clearing of the current output cell\n",
       "var outputEl = gd.closest('.output');\n",
       "if (outputEl) {{\n",
       "    x.observe(outputEl, {childList: true});\n",
       "}}\n",
       "\n",
       "                        })\n",
       "                };\n",
       "                });\n",
       "            </script>\n",
       "        </div>"
      ]
     },
     "metadata": {},
     "output_type": "display_data"
    }
   ],
   "source": [
    "fig = px.bar(violation_GB, x='HOUR', y='COUNT')\n",
    "fig.show()"
   ]
  },
  {
   "cell_type": "code",
   "execution_count": 319,
   "metadata": {},
   "outputs": [
    {
     "data": {
      "text/plain": [
       "'challenge_4.html'"
      ]
     },
     "execution_count": 319,
     "metadata": {},
     "output_type": "execute_result"
    }
   ],
   "source": [
    "import plotly\n",
    "plotly.offline.plot(fig, filename = 'challenge_4.html', auto_open=False)"
   ]
  },
  {
   "cell_type": "markdown",
   "metadata": {},
   "source": [
    "# Eigth Challenge"
   ]
  },
  {
   "cell_type": "markdown",
   "metadata": {},
   "source": [
    "## Data Processing"
   ]
  },
  {
   "cell_type": "code",
   "execution_count": 38,
   "metadata": {},
   "outputs": [],
   "source": [
    "#Perform join to get vehicle movements\n",
    "v_m  = v_e.merge(v_p,\n",
    "                              left_on = ['Vehicle_ID','Timestamp'],\n",
    "                              right_on = ['Vehicle_ID','Timestamp'],\n",
    "                              how = 'inner')"
   ]
  },
  {
   "cell_type": "code",
   "execution_count": 39,
   "metadata": {},
   "outputs": [],
   "source": [
    "#Get locations by vehcile grouped together\n",
    "v_m_counts = v_m[['Vehicle_ID']].reset_index().groupby(['Vehicle_ID']).count()"
   ]
  },
  {
   "cell_type": "code",
   "execution_count": 40,
   "metadata": {},
   "outputs": [],
   "source": [
    "#Reset the index for further processing\n",
    "v_m_counts = v_m_counts.reset_index()"
   ]
  },
  {
   "cell_type": "code",
   "execution_count": 41,
   "metadata": {},
   "outputs": [],
   "source": [
    "#Sort values to find a value that could be mapped easily\n",
    "v_m_top = v_m_counts.sort_values(by=['index'],ascending=False)"
   ]
  },
  {
   "cell_type": "code",
   "execution_count": 42,
   "metadata": {},
   "outputs": [],
   "source": [
    "#Use vehicle ID 269 with only 22 stops\n",
    "v_m_269 = v_m.loc[v_m['Vehicle_ID'] == 269]"
   ]
  },
  {
   "cell_type": "code",
   "execution_count": 46,
   "metadata": {},
   "outputs": [],
   "source": [
    "#Write out to csv\n",
    "v_m_269.to_csv('challenge_8_dv.csv')"
   ]
  },
  {
   "cell_type": "code",
   "execution_count": 43,
   "metadata": {},
   "outputs": [],
   "source": [
    "#Create a list of points travelled by the vehicle\n",
    "geo_list = list(zip(v_m_269['Latitude'],v_m_269['Longitude']))"
   ]
  },
  {
   "cell_type": "code",
   "execution_count": 44,
   "metadata": {},
   "outputs": [],
   "source": [
    "#List of times stoped by the vehicle\n",
    "trip_list = list(range(len(v_m_269)))"
   ]
  },
  {
   "cell_type": "markdown",
   "metadata": {},
   "source": [
    "## Visualization"
   ]
  },
  {
   "cell_type": "code",
   "execution_count": 326,
   "metadata": {},
   "outputs": [
    {
     "data": {
      "text/html": [
       "<div style=\"width:100%;\"><div style=\"position:relative;width:100%;height:0;padding-bottom:60%;\"><iframe src=\"data:text/html;charset=utf-8;base64,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\" style=\"position:absolute;width:100%;height:100%;left:0;top:0;border:none !important;\" allowfullscreen webkitallowfullscreen mozallowfullscreen></iframe></div></div>"
      ],
      "text/plain": [
       "<folium.folium.Map at 0x174422390>"
      ]
     },
     "execution_count": 326,
     "metadata": {},
     "output_type": "execute_result"
    }
   ],
   "source": [
    "#Vusalize a base and line plot\n",
    "m_8 = folium.Map(location=[40.774, -73.95], zoom_start = 12)\n",
    "\n",
    "folium.ColorLine(geo_list,\n",
    "                 colors = trip_list,\n",
    "                 colormap = ['blue', 'red'],\n",
    "                 weight = 10,\n",
    "                 opacity = 0.8).add_to(m_8)\n",
    "m_8"
   ]
  },
  {
   "cell_type": "code",
   "execution_count": 310,
   "metadata": {},
   "outputs": [],
   "source": [
    "m_8.save('challenge_8.html')"
   ]
  },
  {
   "cell_type": "code",
   "execution_count": null,
   "metadata": {},
   "outputs": [],
   "source": []
  }
 ],
 "metadata": {
  "kernelspec": {
   "display_name": "Python 3",
   "language": "python",
   "name": "python3"
  },
  "language_info": {
   "codemirror_mode": {
    "name": "ipython",
    "version": 3
   },
   "file_extension": ".py",
   "mimetype": "text/x-python",
   "name": "python",
   "nbconvert_exporter": "python",
   "pygments_lexer": "ipython3",
   "version": "3.7.3"
  }
 },
 "nbformat": 4,
 "nbformat_minor": 2
}
